{
 "metadata": {
  "language_info": {
   "codemirror_mode": {
    "name": "ipython",
    "version": 3
   },
   "file_extension": ".py",
   "mimetype": "text/x-python",
   "name": "python",
   "nbconvert_exporter": "python",
   "pygments_lexer": "ipython3",
   "version": "3.8.2-final"
  },
  "orig_nbformat": 2,
  "kernelspec": {
   "name": "python38264bitaprianimmanuelvenvfbcdf83cadc546cfbbc6c272e65915a7",
   "display_name": "Python 3.8.2 64-bit ('aprianimmanuel': venv)"
  }
 },
 "nbformat": 4,
 "nbformat_minor": 2,
 "cells": [
  {
   "cell_type": "markdown",
   "metadata": {},
   "source": [
    "# __2. Credit Risk Modelling:__ Preprocessing and Feature Selection\n",
    "## by: __Aprian Immanuel__ (087785160835 / immanuelaprian@gmail.com)"
   ]
  },
  {
   "cell_type": "code",
   "execution_count": 1,
   "metadata": {},
   "outputs": [],
   "source": [
    "import numpy as np\n",
    "import pandas as pd\n",
    "import matplotlib.pyplot as plt\n",
    "import seaborn as sns\n",
    "\n",
    "from sklearn.ensemble import RandomForestClassifier\n",
    "from sklearn.preprocessing import LabelEncoder\n",
    "from sklearn.feature_selection import SelectKBest, chi2, f_classif\n",
    "\n",
    "import warnings\n",
    "warnings.filterwarnings('ignore')\n",
    "%matplotlib inline"
   ]
  },
  {
   "cell_type": "code",
   "execution_count": 2,
   "metadata": {},
   "outputs": [
    {
     "output_type": "execute_result",
     "data": {
      "text/plain": "    LN_ID  TARGET CONTRACT_TYPE GENDER  NUM_CHILDREN    INCOME  \\\n0  145235       0    Cash loans      M             0  202500.0   \n1  156401       0    Cash loans      F             1  225000.0   \n2  169487       0    Cash loans      M             0  202500.0   \n3  230261       0    Cash loans      F             0   94500.0   \n4  272288       0    Cash loans      F             0  157500.0   \n\n   APPROVED_CREDIT  ANNUITY     PRICE           INCOME_TYPE  ...  \\\n0         728460.0  44694.0  675000.0  Commercial associate  ...   \n1         640080.0  31261.5  450000.0               Working  ...   \n2         360000.0      NaN  360000.0               Working  ...   \n3         148365.0  10453.5  135000.0               Working  ...   \n4         281493.0  10561.5  243000.0             Pensioner  ...   \n\n  PRICE_PREV_APP WEEKKDAYS_APPLY_PREV_APP HOUR_APPLY_PREV_APP  DAYS_DECISION  \\\n0        62955.0                   SUNDAY                11.0         -261.0   \n1        64039.5                   FRIDAY                16.0         -978.0   \n2       270000.0                 SATURDAY                10.0         -378.0   \n3        41625.0                 SATURDAY                11.0         -496.0   \n4      1174500.0                WEDNESDAY                14.0         -449.0   \n\n   TERM_PAYMENT  YIELD_GROUP  FIRST_DRAW FIRST_DUE  TERMINATION  \\\n0           8.0   low_normal    365243.0    -231.0        -16.0   \n1           4.0       middle    365243.0    -947.0       -850.0   \n2           0.0          NA1      -365.0    -335.0     365243.0   \n3           6.0       middle    365243.0    -465.0       -313.0   \n4          54.0   low_normal    365243.0    -419.0     365243.0   \n\n  NFLAG_INSURED_ON_APPROVAL  \n0                       1.0  \n1                       0.0  \n2                       0.0  \n3                       0.0  \n4                       1.0  \n\n[5 rows x 44 columns]",
      "text/html": "<div>\n<style scoped>\n    .dataframe tbody tr th:only-of-type {\n        vertical-align: middle;\n    }\n\n    .dataframe tbody tr th {\n        vertical-align: top;\n    }\n\n    .dataframe thead th {\n        text-align: right;\n    }\n</style>\n<table border=\"1\" class=\"dataframe\">\n  <thead>\n    <tr style=\"text-align: right;\">\n      <th></th>\n      <th>LN_ID</th>\n      <th>TARGET</th>\n      <th>CONTRACT_TYPE</th>\n      <th>GENDER</th>\n      <th>NUM_CHILDREN</th>\n      <th>INCOME</th>\n      <th>APPROVED_CREDIT</th>\n      <th>ANNUITY</th>\n      <th>PRICE</th>\n      <th>INCOME_TYPE</th>\n      <th>...</th>\n      <th>PRICE_PREV_APP</th>\n      <th>WEEKKDAYS_APPLY_PREV_APP</th>\n      <th>HOUR_APPLY_PREV_APP</th>\n      <th>DAYS_DECISION</th>\n      <th>TERM_PAYMENT</th>\n      <th>YIELD_GROUP</th>\n      <th>FIRST_DRAW</th>\n      <th>FIRST_DUE</th>\n      <th>TERMINATION</th>\n      <th>NFLAG_INSURED_ON_APPROVAL</th>\n    </tr>\n  </thead>\n  <tbody>\n    <tr>\n      <th>0</th>\n      <td>145235</td>\n      <td>0</td>\n      <td>Cash loans</td>\n      <td>M</td>\n      <td>0</td>\n      <td>202500.0</td>\n      <td>728460.0</td>\n      <td>44694.0</td>\n      <td>675000.0</td>\n      <td>Commercial associate</td>\n      <td>...</td>\n      <td>62955.0</td>\n      <td>SUNDAY</td>\n      <td>11.0</td>\n      <td>-261.0</td>\n      <td>8.0</td>\n      <td>low_normal</td>\n      <td>365243.0</td>\n      <td>-231.0</td>\n      <td>-16.0</td>\n      <td>1.0</td>\n    </tr>\n    <tr>\n      <th>1</th>\n      <td>156401</td>\n      <td>0</td>\n      <td>Cash loans</td>\n      <td>F</td>\n      <td>1</td>\n      <td>225000.0</td>\n      <td>640080.0</td>\n      <td>31261.5</td>\n      <td>450000.0</td>\n      <td>Working</td>\n      <td>...</td>\n      <td>64039.5</td>\n      <td>FRIDAY</td>\n      <td>16.0</td>\n      <td>-978.0</td>\n      <td>4.0</td>\n      <td>middle</td>\n      <td>365243.0</td>\n      <td>-947.0</td>\n      <td>-850.0</td>\n      <td>0.0</td>\n    </tr>\n    <tr>\n      <th>2</th>\n      <td>169487</td>\n      <td>0</td>\n      <td>Cash loans</td>\n      <td>M</td>\n      <td>0</td>\n      <td>202500.0</td>\n      <td>360000.0</td>\n      <td>NaN</td>\n      <td>360000.0</td>\n      <td>Working</td>\n      <td>...</td>\n      <td>270000.0</td>\n      <td>SATURDAY</td>\n      <td>10.0</td>\n      <td>-378.0</td>\n      <td>0.0</td>\n      <td>NA1</td>\n      <td>-365.0</td>\n      <td>-335.0</td>\n      <td>365243.0</td>\n      <td>0.0</td>\n    </tr>\n    <tr>\n      <th>3</th>\n      <td>230261</td>\n      <td>0</td>\n      <td>Cash loans</td>\n      <td>F</td>\n      <td>0</td>\n      <td>94500.0</td>\n      <td>148365.0</td>\n      <td>10453.5</td>\n      <td>135000.0</td>\n      <td>Working</td>\n      <td>...</td>\n      <td>41625.0</td>\n      <td>SATURDAY</td>\n      <td>11.0</td>\n      <td>-496.0</td>\n      <td>6.0</td>\n      <td>middle</td>\n      <td>365243.0</td>\n      <td>-465.0</td>\n      <td>-313.0</td>\n      <td>0.0</td>\n    </tr>\n    <tr>\n      <th>4</th>\n      <td>272288</td>\n      <td>0</td>\n      <td>Cash loans</td>\n      <td>F</td>\n      <td>0</td>\n      <td>157500.0</td>\n      <td>281493.0</td>\n      <td>10561.5</td>\n      <td>243000.0</td>\n      <td>Pensioner</td>\n      <td>...</td>\n      <td>1174500.0</td>\n      <td>WEDNESDAY</td>\n      <td>14.0</td>\n      <td>-449.0</td>\n      <td>54.0</td>\n      <td>low_normal</td>\n      <td>365243.0</td>\n      <td>-419.0</td>\n      <td>365243.0</td>\n      <td>1.0</td>\n    </tr>\n  </tbody>\n</table>\n<p>5 rows × 44 columns</p>\n</div>"
     },
     "metadata": {},
     "execution_count": 2
    }
   ],
   "source": [
    "df = pd.read_csv('precredit_train.csv', delimiter=';') #import dataset\n",
    "df = df.drop(['NULL', 'MyUnknownColumn', 'LN_ID.1', 'MyUnknownColumn.1', 'SK_ID_PREV.1', 'LN_ID.2', 'CONTRACT_STATUS'], axis=1) #drop unnecessary feature\n",
    "df = df.rename(columns={'CONTRACT_TYPE.1' : 'CONTRACT_TYPE_PREV_APP', 'ANNUITY.1' : 'ANNUITY_PREV_APP', 'PRICE.1':'PRICE_PREV_APP', 'WEEKDAYS_APPLY.1':'WEEKKDAYS_APPLY_PREV_APP', 'HOUR_APPLY.1': 'HOUR_APPLY_PREV_APP', 'APPROVED_CREDIT.1':'APPROVED_CREDIT_PREV_APP'}, inplace=False) #rename feature\n",
    "df.head()"
   ]
  },
  {
   "cell_type": "code",
   "execution_count": 3,
   "metadata": {},
   "outputs": [
    {
     "output_type": "execute_result",
     "data": {
      "text/plain": "Index(['LN_ID', 'TARGET', 'CONTRACT_TYPE', 'GENDER', 'NUM_CHILDREN', 'INCOME',\n       'APPROVED_CREDIT', 'ANNUITY', 'PRICE', 'INCOME_TYPE', 'EDUCATION',\n       'FAMILY_STATUS', 'HOUSING_TYPE', 'DAYS_AGE', 'DAYS_WORK',\n       'DAYS_REGISTRATION', 'DAYS_ID_CHANGE', 'WEEKDAYS_APPLY', 'HOUR_APPLY',\n       'ORGANIZATION_TYPE', 'EXT_SCORE_1', 'EXT_SCORE_2', 'EXT_SCORE_3',\n       'SK_ID_PREV', 'INST_NUMBER', 'INST_DAYS', 'PAY_DAYS', 'AMT_INST',\n       'AMT_PAY', 'CONTRACT_TYPE_PREV_APP', 'ANNUITY_PREV_APP', 'APPLICATION',\n       'APPROVED_CREDIT_PREV_APP', 'AMT_DOWN_PAYMENT', 'PRICE_PREV_APP',\n       'WEEKKDAYS_APPLY_PREV_APP', 'HOUR_APPLY_PREV_APP', 'DAYS_DECISION',\n       'TERM_PAYMENT', 'YIELD_GROUP', 'FIRST_DRAW', 'FIRST_DUE', 'TERMINATION',\n       'NFLAG_INSURED_ON_APPROVAL'],\n      dtype='object')"
     },
     "metadata": {},
     "execution_count": 3
    }
   ],
   "source": [
    "df.columns"
   ]
  },
  {
   "cell_type": "markdown",
   "metadata": {},
   "source": [
    "## __1. Value Encoding:__ This step is for preparing the dataset to be ready feature selected and modelled\n",
    "### a. INCOME TYPE"
   ]
  },
  {
   "cell_type": "code",
   "execution_count": 4,
   "metadata": {},
   "outputs": [
    {
     "output_type": "execute_result",
     "data": {
      "text/plain": "    income_type_ord           INCOME_TYPE\n0               2.0  Commercial associate\n1               1.0               Working\n10              2.0  Commercial associate",
      "text/html": "<div>\n<style scoped>\n    .dataframe tbody tr th:only-of-type {\n        vertical-align: middle;\n    }\n\n    .dataframe tbody tr th {\n        vertical-align: top;\n    }\n\n    .dataframe thead th {\n        text-align: right;\n    }\n</style>\n<table border=\"1\" class=\"dataframe\">\n  <thead>\n    <tr style=\"text-align: right;\">\n      <th></th>\n      <th>income_type_ord</th>\n      <th>INCOME_TYPE</th>\n    </tr>\n  </thead>\n  <tbody>\n    <tr>\n      <th>0</th>\n      <td>2.0</td>\n      <td>Commercial associate</td>\n    </tr>\n    <tr>\n      <th>1</th>\n      <td>1.0</td>\n      <td>Working</td>\n    </tr>\n    <tr>\n      <th>10</th>\n      <td>2.0</td>\n      <td>Commercial associate</td>\n    </tr>\n  </tbody>\n</table>\n</div>"
     },
     "metadata": {},
     "execution_count": 4
    }
   ],
   "source": [
    "df_new = df.copy()\n",
    "df_new = df_new.dropna(axis=0)\n",
    "incometype_dict = {'Working': 1, 'Commercial associate': 2, 'Pensioner': 3, 'State servant': 4, 'Unemployed':5}\n",
    "df_new['income_type_ord'] = df['INCOME_TYPE'].map(incometype_dict)\n",
    "df_new[['income_type_ord', 'INCOME_TYPE']].head(3)"
   ]
  },
  {
   "cell_type": "markdown",
   "metadata": {},
   "source": [
    "### b.GENDER"
   ]
  },
  {
   "cell_type": "code",
   "execution_count": 5,
   "metadata": {},
   "outputs": [
    {
     "output_type": "execute_result",
     "data": {
      "text/plain": "    gender_ord GENDER\n0            1      M\n1            2      F\n10           2      F",
      "text/html": "<div>\n<style scoped>\n    .dataframe tbody tr th:only-of-type {\n        vertical-align: middle;\n    }\n\n    .dataframe tbody tr th {\n        vertical-align: top;\n    }\n\n    .dataframe thead th {\n        text-align: right;\n    }\n</style>\n<table border=\"1\" class=\"dataframe\">\n  <thead>\n    <tr style=\"text-align: right;\">\n      <th></th>\n      <th>gender_ord</th>\n      <th>GENDER</th>\n    </tr>\n  </thead>\n  <tbody>\n    <tr>\n      <th>0</th>\n      <td>1</td>\n      <td>M</td>\n    </tr>\n    <tr>\n      <th>1</th>\n      <td>2</td>\n      <td>F</td>\n    </tr>\n    <tr>\n      <th>10</th>\n      <td>2</td>\n      <td>F</td>\n    </tr>\n  </tbody>\n</table>\n</div>"
     },
     "metadata": {},
     "execution_count": 5
    }
   ],
   "source": [
    "gender_dict = {'M': 1, 'F': 2, }\n",
    "df_new['gender_ord'] = df['GENDER'].map(gender_dict)\n",
    "df_new[['gender_ord', 'GENDER']].head(3)"
   ]
  },
  {
   "cell_type": "markdown",
   "metadata": {},
   "source": [
    "### C. Education Background"
   ]
  },
  {
   "cell_type": "code",
   "execution_count": 6,
   "metadata": {},
   "outputs": [
    {
     "output_type": "execute_result",
     "data": {
      "text/plain": "    education_ord                      EDUCATION\n0               1  Secondary / secondary special\n1               1  Secondary / secondary special\n10              2               Higher education",
      "text/html": "<div>\n<style scoped>\n    .dataframe tbody tr th:only-of-type {\n        vertical-align: middle;\n    }\n\n    .dataframe tbody tr th {\n        vertical-align: top;\n    }\n\n    .dataframe thead th {\n        text-align: right;\n    }\n</style>\n<table border=\"1\" class=\"dataframe\">\n  <thead>\n    <tr style=\"text-align: right;\">\n      <th></th>\n      <th>education_ord</th>\n      <th>EDUCATION</th>\n    </tr>\n  </thead>\n  <tbody>\n    <tr>\n      <th>0</th>\n      <td>1</td>\n      <td>Secondary / secondary special</td>\n    </tr>\n    <tr>\n      <th>1</th>\n      <td>1</td>\n      <td>Secondary / secondary special</td>\n    </tr>\n    <tr>\n      <th>10</th>\n      <td>2</td>\n      <td>Higher education</td>\n    </tr>\n  </tbody>\n</table>\n</div>"
     },
     "metadata": {},
     "execution_count": 6
    }
   ],
   "source": [
    "education_dict = {'Secondary / secondary special': 1, 'Higher education': 2, 'Incomplete higher': 3, 'Lower secondary': 4, 'Academic degree': 5}\n",
    "df_new['education_ord'] = df['EDUCATION'].map(education_dict)\n",
    "df_new[['education_ord', 'EDUCATION']].head(3)"
   ]
  },
  {
   "cell_type": "markdown",
   "metadata": {},
   "source": [
    "### d. Family Status"
   ]
  },
  {
   "cell_type": "code",
   "execution_count": 7,
   "metadata": {},
   "outputs": [
    {
     "output_type": "execute_result",
     "data": {
      "text/plain": "    family_status_ord FAMILY_STATUS\n0                   1       Married\n1                   1       Married\n10                  1       Married",
      "text/html": "<div>\n<style scoped>\n    .dataframe tbody tr th:only-of-type {\n        vertical-align: middle;\n    }\n\n    .dataframe tbody tr th {\n        vertical-align: top;\n    }\n\n    .dataframe thead th {\n        text-align: right;\n    }\n</style>\n<table border=\"1\" class=\"dataframe\">\n  <thead>\n    <tr style=\"text-align: right;\">\n      <th></th>\n      <th>family_status_ord</th>\n      <th>FAMILY_STATUS</th>\n    </tr>\n  </thead>\n  <tbody>\n    <tr>\n      <th>0</th>\n      <td>1</td>\n      <td>Married</td>\n    </tr>\n    <tr>\n      <th>1</th>\n      <td>1</td>\n      <td>Married</td>\n    </tr>\n    <tr>\n      <th>10</th>\n      <td>1</td>\n      <td>Married</td>\n    </tr>\n  </tbody>\n</table>\n</div>"
     },
     "metadata": {},
     "execution_count": 7
    }
   ],
   "source": [
    "family_dict = {'Married': 1, 'Single / not married': 2, 'Civil marriage': 3, 'Separated': 4, 'Widow': 5}\n",
    "df_new['family_status_ord'] = df['FAMILY_STATUS'].map(family_dict)\n",
    "df_new[['family_status_ord', 'FAMILY_STATUS']].head(3)"
   ]
  },
  {
   "cell_type": "markdown",
   "metadata": {},
   "source": [
    "### e. Num of Children"
   ]
  },
  {
   "cell_type": "code",
   "execution_count": 8,
   "metadata": {},
   "outputs": [
    {
     "output_type": "execute_result",
     "data": {
      "text/plain": "    num_of_children_ord  NUM_CHILDREN\n0                   1.0             0\n1                   2.0             1\n10                  2.0             1",
      "text/html": "<div>\n<style scoped>\n    .dataframe tbody tr th:only-of-type {\n        vertical-align: middle;\n    }\n\n    .dataframe tbody tr th {\n        vertical-align: top;\n    }\n\n    .dataframe thead th {\n        text-align: right;\n    }\n</style>\n<table border=\"1\" class=\"dataframe\">\n  <thead>\n    <tr style=\"text-align: right;\">\n      <th></th>\n      <th>num_of_children_ord</th>\n      <th>NUM_CHILDREN</th>\n    </tr>\n  </thead>\n  <tbody>\n    <tr>\n      <th>0</th>\n      <td>1.0</td>\n      <td>0</td>\n    </tr>\n    <tr>\n      <th>1</th>\n      <td>2.0</td>\n      <td>1</td>\n    </tr>\n    <tr>\n      <th>10</th>\n      <td>2.0</td>\n      <td>1</td>\n    </tr>\n  </tbody>\n</table>\n</div>"
     },
     "metadata": {},
     "execution_count": 8
    }
   ],
   "source": [
    "children_dict = {0: 1, 1: 2, 2: 3, 3: 4, 4: 5, 5: 6, 8: 7}\n",
    "df_new['num_of_children_ord'] = df['NUM_CHILDREN'].map(children_dict)\n",
    "df_new[['num_of_children_ord', 'NUM_CHILDREN']].head(3)"
   ]
  },
  {
   "cell_type": "markdown",
   "metadata": {},
   "source": [
    "### f. Housing Types"
   ]
  },
  {
   "cell_type": "code",
   "execution_count": 9,
   "metadata": {},
   "outputs": [
    {
     "output_type": "execute_result",
     "data": {
      "text/plain": "    housing_type_ord       HOUSING_TYPE\n0                  1  House / apartment\n1                  1  House / apartment\n10                 1  House / apartment",
      "text/html": "<div>\n<style scoped>\n    .dataframe tbody tr th:only-of-type {\n        vertical-align: middle;\n    }\n\n    .dataframe tbody tr th {\n        vertical-align: top;\n    }\n\n    .dataframe thead th {\n        text-align: right;\n    }\n</style>\n<table border=\"1\" class=\"dataframe\">\n  <thead>\n    <tr style=\"text-align: right;\">\n      <th></th>\n      <th>housing_type_ord</th>\n      <th>HOUSING_TYPE</th>\n    </tr>\n  </thead>\n  <tbody>\n    <tr>\n      <th>0</th>\n      <td>1</td>\n      <td>House / apartment</td>\n    </tr>\n    <tr>\n      <th>1</th>\n      <td>1</td>\n      <td>House / apartment</td>\n    </tr>\n    <tr>\n      <th>10</th>\n      <td>1</td>\n      <td>House / apartment</td>\n    </tr>\n  </tbody>\n</table>\n</div>"
     },
     "metadata": {},
     "execution_count": 9
    }
   ],
   "source": [
    "housing_dict = {'House / apartment': 1, 'With parents': 2, 'Municipal apartment': 3, 'Rented apartment': 4, 'Office apartment': 5, 'Co-op apartment': 6}\n",
    "df_new['housing_type_ord'] = df['HOUSING_TYPE'].map(housing_dict)\n",
    "df_new[['housing_type_ord', 'HOUSING_TYPE']].head(3)"
   ]
  },
  {
   "cell_type": "code",
   "execution_count": 10,
   "metadata": {},
   "outputs": [
    {
     "output_type": "execute_result",
     "data": {
      "text/plain": "    contract_type_ord CONTRACT_TYPE\n0                   1    Cash loans\n1                   1    Cash loans\n10                  1    Cash loans",
      "text/html": "<div>\n<style scoped>\n    .dataframe tbody tr th:only-of-type {\n        vertical-align: middle;\n    }\n\n    .dataframe tbody tr th {\n        vertical-align: top;\n    }\n\n    .dataframe thead th {\n        text-align: right;\n    }\n</style>\n<table border=\"1\" class=\"dataframe\">\n  <thead>\n    <tr style=\"text-align: right;\">\n      <th></th>\n      <th>contract_type_ord</th>\n      <th>CONTRACT_TYPE</th>\n    </tr>\n  </thead>\n  <tbody>\n    <tr>\n      <th>0</th>\n      <td>1</td>\n      <td>Cash loans</td>\n    </tr>\n    <tr>\n      <th>1</th>\n      <td>1</td>\n      <td>Cash loans</td>\n    </tr>\n    <tr>\n      <th>10</th>\n      <td>1</td>\n      <td>Cash loans</td>\n    </tr>\n  </tbody>\n</table>\n</div>"
     },
     "metadata": {},
     "execution_count": 10
    }
   ],
   "source": [
    "contract_type_dict = {'Cash loans': 1, 'Revolving loans': 2}\n",
    "df_new['contract_type_ord'] = df['CONTRACT_TYPE'].map(contract_type_dict)\n",
    "df_new[['contract_type_ord', 'CONTRACT_TYPE']].head(3)"
   ]
  },
  {
   "cell_type": "markdown",
   "metadata": {},
   "source": [
    "### g. Weekdays Apply"
   ]
  },
  {
   "cell_type": "code",
   "execution_count": 11,
   "metadata": {},
   "outputs": [
    {
     "output_type": "execute_result",
     "data": {
      "text/plain": "    weekdays_apply_ord WEEKDAYS_APPLY\n0                    2        TUESDAY\n1                    3      WEDNESDAY\n10                   3      WEDNESDAY",
      "text/html": "<div>\n<style scoped>\n    .dataframe tbody tr th:only-of-type {\n        vertical-align: middle;\n    }\n\n    .dataframe tbody tr th {\n        vertical-align: top;\n    }\n\n    .dataframe thead th {\n        text-align: right;\n    }\n</style>\n<table border=\"1\" class=\"dataframe\">\n  <thead>\n    <tr style=\"text-align: right;\">\n      <th></th>\n      <th>weekdays_apply_ord</th>\n      <th>WEEKDAYS_APPLY</th>\n    </tr>\n  </thead>\n  <tbody>\n    <tr>\n      <th>0</th>\n      <td>2</td>\n      <td>TUESDAY</td>\n    </tr>\n    <tr>\n      <th>1</th>\n      <td>3</td>\n      <td>WEDNESDAY</td>\n    </tr>\n    <tr>\n      <th>10</th>\n      <td>3</td>\n      <td>WEDNESDAY</td>\n    </tr>\n  </tbody>\n</table>\n</div>"
     },
     "metadata": {},
     "execution_count": 11
    }
   ],
   "source": [
    "weekdays_apply_dict = {'MONDAY': 1, 'TUESDAY': 2, 'WEDNESDAY': 3, 'THURSDAY': 4, 'FRIDAY': 5, 'SATURDAY': 6, 'SUNDAY': 7}\n",
    "df_new['weekdays_apply_ord'] = df['WEEKDAYS_APPLY'].map(weekdays_apply_dict)\n",
    "df_new[['weekdays_apply_ord', 'WEEKDAYS_APPLY']].head(3)"
   ]
  },
  {
   "cell_type": "markdown",
   "metadata": {},
   "source": [
    "### h. Hour Apply"
   ]
  },
  {
   "cell_type": "code",
   "execution_count": 12,
   "metadata": {},
   "outputs": [
    {
     "output_type": "execute_result",
     "data": {
      "text/plain": "       hour_apply_ord  HOUR_APPLY\n0                   0          12\n42740               0          12\n42726               0          12\n42717               0          12\n42698               0          12\n42675               0          12\n42661               0          12\n42622               0          12\n42539               0          12\n42494               0          12",
      "text/html": "<div>\n<style scoped>\n    .dataframe tbody tr th:only-of-type {\n        vertical-align: middle;\n    }\n\n    .dataframe tbody tr th {\n        vertical-align: top;\n    }\n\n    .dataframe thead th {\n        text-align: right;\n    }\n</style>\n<table border=\"1\" class=\"dataframe\">\n  <thead>\n    <tr style=\"text-align: right;\">\n      <th></th>\n      <th>hour_apply_ord</th>\n      <th>HOUR_APPLY</th>\n    </tr>\n  </thead>\n  <tbody>\n    <tr>\n      <th>0</th>\n      <td>0</td>\n      <td>12</td>\n    </tr>\n    <tr>\n      <th>42740</th>\n      <td>0</td>\n      <td>12</td>\n    </tr>\n    <tr>\n      <th>42726</th>\n      <td>0</td>\n      <td>12</td>\n    </tr>\n    <tr>\n      <th>42717</th>\n      <td>0</td>\n      <td>12</td>\n    </tr>\n    <tr>\n      <th>42698</th>\n      <td>0</td>\n      <td>12</td>\n    </tr>\n    <tr>\n      <th>42675</th>\n      <td>0</td>\n      <td>12</td>\n    </tr>\n    <tr>\n      <th>42661</th>\n      <td>0</td>\n      <td>12</td>\n    </tr>\n    <tr>\n      <th>42622</th>\n      <td>0</td>\n      <td>12</td>\n    </tr>\n    <tr>\n      <th>42539</th>\n      <td>0</td>\n      <td>12</td>\n    </tr>\n    <tr>\n      <th>42494</th>\n      <td>0</td>\n      <td>12</td>\n    </tr>\n  </tbody>\n</table>\n</div>"
     },
     "metadata": {},
     "execution_count": 12
    }
   ],
   "source": [
    "df_new['hour_apply_ord'] = pd.factorize(df_new['HOUR_APPLY'])[0].reshape(-1,1)\n",
    "df_new[['hour_apply_ord', 'HOUR_APPLY']].sort_values(by='hour_apply_ord').head(10)"
   ]
  },
  {
   "cell_type": "markdown",
   "metadata": {},
   "source": [
    "### i. Organization Type "
   ]
  },
  {
   "cell_type": "code",
   "execution_count": 13,
   "metadata": {},
   "outputs": [
    {
     "output_type": "execute_result",
     "data": {
      "text/plain": "       organization_type_ord ORGANIZATION_TYPE\n0                          0            Police\n59142                      0            Police\n48174                      0            Police\n47819                      0            Police\n47042                      0            Police\n46744                      0            Police\n59562                      0            Police\n6499                       0            Police\n46586                      0            Police\n46516                      0            Police",
      "text/html": "<div>\n<style scoped>\n    .dataframe tbody tr th:only-of-type {\n        vertical-align: middle;\n    }\n\n    .dataframe tbody tr th {\n        vertical-align: top;\n    }\n\n    .dataframe thead th {\n        text-align: right;\n    }\n</style>\n<table border=\"1\" class=\"dataframe\">\n  <thead>\n    <tr style=\"text-align: right;\">\n      <th></th>\n      <th>organization_type_ord</th>\n      <th>ORGANIZATION_TYPE</th>\n    </tr>\n  </thead>\n  <tbody>\n    <tr>\n      <th>0</th>\n      <td>0</td>\n      <td>Police</td>\n    </tr>\n    <tr>\n      <th>59142</th>\n      <td>0</td>\n      <td>Police</td>\n    </tr>\n    <tr>\n      <th>48174</th>\n      <td>0</td>\n      <td>Police</td>\n    </tr>\n    <tr>\n      <th>47819</th>\n      <td>0</td>\n      <td>Police</td>\n    </tr>\n    <tr>\n      <th>47042</th>\n      <td>0</td>\n      <td>Police</td>\n    </tr>\n    <tr>\n      <th>46744</th>\n      <td>0</td>\n      <td>Police</td>\n    </tr>\n    <tr>\n      <th>59562</th>\n      <td>0</td>\n      <td>Police</td>\n    </tr>\n    <tr>\n      <th>6499</th>\n      <td>0</td>\n      <td>Police</td>\n    </tr>\n    <tr>\n      <th>46586</th>\n      <td>0</td>\n      <td>Police</td>\n    </tr>\n    <tr>\n      <th>46516</th>\n      <td>0</td>\n      <td>Police</td>\n    </tr>\n  </tbody>\n</table>\n</div>"
     },
     "metadata": {},
     "execution_count": 13
    }
   ],
   "source": [
    "df_new['organization_type_ord'] = pd.factorize(df_new['ORGANIZATION_TYPE'])[0].reshape(-1,1)\n",
    "df_new[['organization_type_ord', 'ORGANIZATION_TYPE']].sort_values(by='organization_type_ord').head(10)"
   ]
  },
  {
   "cell_type": "markdown",
   "metadata": {},
   "source": [
    "### j. Contract Type in Previous Application"
   ]
  },
  {
   "cell_type": "code",
   "execution_count": 14,
   "metadata": {},
   "outputs": [
    {
     "output_type": "execute_result",
     "data": {
      "text/plain": "    contract_type_prevapp_ord CONTRACT_TYPE_PREV_APP\n0                         3.0         Consumer loans\n1                         3.0         Consumer loans\n10                        3.0         Consumer loans",
      "text/html": "<div>\n<style scoped>\n    .dataframe tbody tr th:only-of-type {\n        vertical-align: middle;\n    }\n\n    .dataframe tbody tr th {\n        vertical-align: top;\n    }\n\n    .dataframe thead th {\n        text-align: right;\n    }\n</style>\n<table border=\"1\" class=\"dataframe\">\n  <thead>\n    <tr style=\"text-align: right;\">\n      <th></th>\n      <th>contract_type_prevapp_ord</th>\n      <th>CONTRACT_TYPE_PREV_APP</th>\n    </tr>\n  </thead>\n  <tbody>\n    <tr>\n      <th>0</th>\n      <td>3.0</td>\n      <td>Consumer loans</td>\n    </tr>\n    <tr>\n      <th>1</th>\n      <td>3.0</td>\n      <td>Consumer loans</td>\n    </tr>\n    <tr>\n      <th>10</th>\n      <td>3.0</td>\n      <td>Consumer loans</td>\n    </tr>\n  </tbody>\n</table>\n</div>"
     },
     "metadata": {},
     "execution_count": 14
    }
   ],
   "source": [
    "contract_type_prevapp_dict = {'Cash loans': 1, 'Revolving loans': 2, 'Consumer loans': 3}\n",
    "df_new['contract_type_prevapp_ord'] = df['CONTRACT_TYPE_PREV_APP'].map(contract_type_prevapp_dict)\n",
    "df_new[['contract_type_prevapp_ord', 'CONTRACT_TYPE_PREV_APP']].head(3)"
   ]
  },
  {
   "cell_type": "markdown",
   "metadata": {},
   "source": [
    "### k. Weekdays Apply in Previous Application"
   ]
  },
  {
   "cell_type": "code",
   "execution_count": 15,
   "metadata": {},
   "outputs": [
    {
     "output_type": "execute_result",
     "data": {
      "text/plain": "    weekdays_apply_prevapp_ord WEEKKDAYS_APPLY_PREV_APP\n0                          7.0                   SUNDAY\n1                          5.0                   FRIDAY\n10                         6.0                 SATURDAY",
      "text/html": "<div>\n<style scoped>\n    .dataframe tbody tr th:only-of-type {\n        vertical-align: middle;\n    }\n\n    .dataframe tbody tr th {\n        vertical-align: top;\n    }\n\n    .dataframe thead th {\n        text-align: right;\n    }\n</style>\n<table border=\"1\" class=\"dataframe\">\n  <thead>\n    <tr style=\"text-align: right;\">\n      <th></th>\n      <th>weekdays_apply_prevapp_ord</th>\n      <th>WEEKKDAYS_APPLY_PREV_APP</th>\n    </tr>\n  </thead>\n  <tbody>\n    <tr>\n      <th>0</th>\n      <td>7.0</td>\n      <td>SUNDAY</td>\n    </tr>\n    <tr>\n      <th>1</th>\n      <td>5.0</td>\n      <td>FRIDAY</td>\n    </tr>\n    <tr>\n      <th>10</th>\n      <td>6.0</td>\n      <td>SATURDAY</td>\n    </tr>\n  </tbody>\n</table>\n</div>"
     },
     "metadata": {},
     "execution_count": 15
    }
   ],
   "source": [
    "weekdays_apply_dict = {'MONDAY': 1, 'TUESDAY': 2, 'WEDNESDAY': 3, 'THURSDAY': 4, 'FRIDAY': 5, 'SATURDAY': 6, 'SUNDAY': 7}\n",
    "df_new['weekdays_apply_prevapp_ord'] = df['WEEKKDAYS_APPLY_PREV_APP'].map(weekdays_apply_dict)\n",
    "df_new[['weekdays_apply_prevapp_ord', 'WEEKKDAYS_APPLY_PREV_APP']].head(3)"
   ]
  },
  {
   "cell_type": "markdown",
   "metadata": {},
   "source": [
    "### l. Term of Payment "
   ]
  },
  {
   "cell_type": "code",
   "execution_count": 16,
   "metadata": {},
   "outputs": [
    {
     "output_type": "execute_result",
     "data": {
      "text/plain": "       term_payment_ord  TERM_PAYMENT\n0                     0           8.0\n43457                 0           8.0\n2989                  0           8.0\n59478                 0           8.0\n51963                 0           8.0\n51988                 0           8.0\n51990                 0           8.0\n51896                 0           8.0\n43250                 0           8.0\n43165                 0           8.0",
      "text/html": "<div>\n<style scoped>\n    .dataframe tbody tr th:only-of-type {\n        vertical-align: middle;\n    }\n\n    .dataframe tbody tr th {\n        vertical-align: top;\n    }\n\n    .dataframe thead th {\n        text-align: right;\n    }\n</style>\n<table border=\"1\" class=\"dataframe\">\n  <thead>\n    <tr style=\"text-align: right;\">\n      <th></th>\n      <th>term_payment_ord</th>\n      <th>TERM_PAYMENT</th>\n    </tr>\n  </thead>\n  <tbody>\n    <tr>\n      <th>0</th>\n      <td>0</td>\n      <td>8.0</td>\n    </tr>\n    <tr>\n      <th>43457</th>\n      <td>0</td>\n      <td>8.0</td>\n    </tr>\n    <tr>\n      <th>2989</th>\n      <td>0</td>\n      <td>8.0</td>\n    </tr>\n    <tr>\n      <th>59478</th>\n      <td>0</td>\n      <td>8.0</td>\n    </tr>\n    <tr>\n      <th>51963</th>\n      <td>0</td>\n      <td>8.0</td>\n    </tr>\n    <tr>\n      <th>51988</th>\n      <td>0</td>\n      <td>8.0</td>\n    </tr>\n    <tr>\n      <th>51990</th>\n      <td>0</td>\n      <td>8.0</td>\n    </tr>\n    <tr>\n      <th>51896</th>\n      <td>0</td>\n      <td>8.0</td>\n    </tr>\n    <tr>\n      <th>43250</th>\n      <td>0</td>\n      <td>8.0</td>\n    </tr>\n    <tr>\n      <th>43165</th>\n      <td>0</td>\n      <td>8.0</td>\n    </tr>\n  </tbody>\n</table>\n</div>"
     },
     "metadata": {},
     "execution_count": 16
    }
   ],
   "source": [
    "df_new['term_payment_ord'] = pd.factorize(df_new['TERM_PAYMENT'])[0].reshape(-1,1)\n",
    "df_new[['term_payment_ord', 'TERM_PAYMENT']].sort_values(by='term_payment_ord').head(10)"
   ]
  },
  {
   "cell_type": "markdown",
   "metadata": {},
   "source": [
    "### m. Grouped Interest Rate into Small, Medium and High of the Previous Application"
   ]
  },
  {
   "cell_type": "code",
   "execution_count": 17,
   "metadata": {},
   "outputs": [
    {
     "output_type": "execute_result",
     "data": {
      "text/plain": "    yield_group_ord YIELD_GROUP\n0               3.0  low_normal\n1               1.0      middle\n10              2.0        high",
      "text/html": "<div>\n<style scoped>\n    .dataframe tbody tr th:only-of-type {\n        vertical-align: middle;\n    }\n\n    .dataframe tbody tr th {\n        vertical-align: top;\n    }\n\n    .dataframe thead th {\n        text-align: right;\n    }\n</style>\n<table border=\"1\" class=\"dataframe\">\n  <thead>\n    <tr style=\"text-align: right;\">\n      <th></th>\n      <th>yield_group_ord</th>\n      <th>YIELD_GROUP</th>\n    </tr>\n  </thead>\n  <tbody>\n    <tr>\n      <th>0</th>\n      <td>3.0</td>\n      <td>low_normal</td>\n    </tr>\n    <tr>\n      <th>1</th>\n      <td>1.0</td>\n      <td>middle</td>\n    </tr>\n    <tr>\n      <th>10</th>\n      <td>2.0</td>\n      <td>high</td>\n    </tr>\n  </tbody>\n</table>\n</div>"
     },
     "metadata": {},
     "execution_count": 17
    }
   ],
   "source": [
    "yield_group_dict = {'middle': 1, 'high': 2, 'low_normal': 3, 'low_action': 4, 'NA1': 5}\n",
    "df_new['yield_group_ord'] = df['YIELD_GROUP'].map(yield_group_dict)\n",
    "df_new[['yield_group_ord', 'YIELD_GROUP']].head(3)"
   ]
  },
  {
   "cell_type": "markdown",
   "metadata": {},
   "source": [
    "### n. Approximately at what hour did the client apply for the previous loan - Hour Apply in Previous Application"
   ]
  },
  {
   "cell_type": "code",
   "execution_count": 18,
   "metadata": {},
   "outputs": [
    {
     "output_type": "execute_result",
     "data": {
      "text/plain": "       hour_apply_prevapp_ord  HOUR_APPLY_PREV_APP\n0                           0                 11.0\n47042                       0                 11.0\n47021                       0                 11.0\n3405                        0                 11.0\n46939                       0                 11.0\n46912                       0                 11.0\n46901                       0                 11.0\n46881                       0                 11.0\n46880                       0                 11.0\n46865                       0                 11.0",
      "text/html": "<div>\n<style scoped>\n    .dataframe tbody tr th:only-of-type {\n        vertical-align: middle;\n    }\n\n    .dataframe tbody tr th {\n        vertical-align: top;\n    }\n\n    .dataframe thead th {\n        text-align: right;\n    }\n</style>\n<table border=\"1\" class=\"dataframe\">\n  <thead>\n    <tr style=\"text-align: right;\">\n      <th></th>\n      <th>hour_apply_prevapp_ord</th>\n      <th>HOUR_APPLY_PREV_APP</th>\n    </tr>\n  </thead>\n  <tbody>\n    <tr>\n      <th>0</th>\n      <td>0</td>\n      <td>11.0</td>\n    </tr>\n    <tr>\n      <th>47042</th>\n      <td>0</td>\n      <td>11.0</td>\n    </tr>\n    <tr>\n      <th>47021</th>\n      <td>0</td>\n      <td>11.0</td>\n    </tr>\n    <tr>\n      <th>3405</th>\n      <td>0</td>\n      <td>11.0</td>\n    </tr>\n    <tr>\n      <th>46939</th>\n      <td>0</td>\n      <td>11.0</td>\n    </tr>\n    <tr>\n      <th>46912</th>\n      <td>0</td>\n      <td>11.0</td>\n    </tr>\n    <tr>\n      <th>46901</th>\n      <td>0</td>\n      <td>11.0</td>\n    </tr>\n    <tr>\n      <th>46881</th>\n      <td>0</td>\n      <td>11.0</td>\n    </tr>\n    <tr>\n      <th>46880</th>\n      <td>0</td>\n      <td>11.0</td>\n    </tr>\n    <tr>\n      <th>46865</th>\n      <td>0</td>\n      <td>11.0</td>\n    </tr>\n  </tbody>\n</table>\n</div>"
     },
     "metadata": {},
     "execution_count": 18
    }
   ],
   "source": [
    "df_new['hour_apply_prevapp_ord'] = pd.factorize(df_new['HOUR_APPLY_PREV_APP'])[0].reshape(-1,1)\n",
    "df_new[['hour_apply_prevapp_ord', 'HOUR_APPLY_PREV_APP']].sort_values(by='hour_apply_prevapp_ord').head(10)"
   ]
  },
  {
   "cell_type": "code",
   "execution_count": 22,
   "metadata": {},
   "outputs": [
    {
     "output_type": "execute_result",
     "data": {
      "text/plain": "     LN_ID  TARGET  contract_type_ord  gender_ord  num_of_children_ord  \\\n0   145235       0                  1           1                  1.0   \n1   156401       0                  1           2                  2.0   \n10  186361       0                  1           2                  2.0   \n14  255272       0                  1           1                  1.0   \n16  123747       1                  1           2                  1.0   \n\n      INCOME  APPROVED_CREDIT  ANNUITY     PRICE  income_type_ord  ...  \\\n0   202500.0         728460.0  44694.0  675000.0              2.0  ...   \n1   225000.0         640080.0  31261.5  450000.0              1.0  ...   \n10  270000.0         906615.0  30091.5  688500.0              2.0  ...   \n14  247500.0         622413.0  33894.0  495000.0              1.0  ...   \n16  112500.0         720000.0  25506.0  720000.0              1.0  ...   \n\n    PRICE_PREV_APP  weekdays_apply_prevapp_ord  hour_apply_prevapp_ord  \\\n0          62955.0                         7.0                       0   \n1          64039.5                         5.0                       1   \n10         34353.0                         6.0                       2   \n14         91791.0                         6.0                       3   \n16         57919.5                         6.0                       4   \n\n    DAYS_DECISION  term_payment_ord  yield_group_ord  FIRST_DRAW  FIRST_DUE  \\\n0          -261.0                 0              3.0    365243.0     -231.0   \n1          -978.0                 1              1.0    365243.0     -947.0   \n10        -1964.0                 2              2.0    365243.0    -1929.0   \n14         -463.0                 3              1.0    365243.0     -432.0   \n16         -536.0                 4              4.0    365243.0     -505.0   \n\n    TERMINATION  NFLAG_INSURED_ON_APPROVAL  \n0         -16.0                        1.0  \n1        -850.0                        0.0  \n10      -1774.0                        0.0  \n14     365243.0                        0.0  \n16     365243.0                        0.0  \n\n[5 rows x 44 columns]",
      "text/html": "<div>\n<style scoped>\n    .dataframe tbody tr th:only-of-type {\n        vertical-align: middle;\n    }\n\n    .dataframe tbody tr th {\n        vertical-align: top;\n    }\n\n    .dataframe thead th {\n        text-align: right;\n    }\n</style>\n<table border=\"1\" class=\"dataframe\">\n  <thead>\n    <tr style=\"text-align: right;\">\n      <th></th>\n      <th>LN_ID</th>\n      <th>TARGET</th>\n      <th>contract_type_ord</th>\n      <th>gender_ord</th>\n      <th>num_of_children_ord</th>\n      <th>INCOME</th>\n      <th>APPROVED_CREDIT</th>\n      <th>ANNUITY</th>\n      <th>PRICE</th>\n      <th>income_type_ord</th>\n      <th>...</th>\n      <th>PRICE_PREV_APP</th>\n      <th>weekdays_apply_prevapp_ord</th>\n      <th>hour_apply_prevapp_ord</th>\n      <th>DAYS_DECISION</th>\n      <th>term_payment_ord</th>\n      <th>yield_group_ord</th>\n      <th>FIRST_DRAW</th>\n      <th>FIRST_DUE</th>\n      <th>TERMINATION</th>\n      <th>NFLAG_INSURED_ON_APPROVAL</th>\n    </tr>\n  </thead>\n  <tbody>\n    <tr>\n      <th>0</th>\n      <td>145235</td>\n      <td>0</td>\n      <td>1</td>\n      <td>1</td>\n      <td>1.0</td>\n      <td>202500.0</td>\n      <td>728460.0</td>\n      <td>44694.0</td>\n      <td>675000.0</td>\n      <td>2.0</td>\n      <td>...</td>\n      <td>62955.0</td>\n      <td>7.0</td>\n      <td>0</td>\n      <td>-261.0</td>\n      <td>0</td>\n      <td>3.0</td>\n      <td>365243.0</td>\n      <td>-231.0</td>\n      <td>-16.0</td>\n      <td>1.0</td>\n    </tr>\n    <tr>\n      <th>1</th>\n      <td>156401</td>\n      <td>0</td>\n      <td>1</td>\n      <td>2</td>\n      <td>2.0</td>\n      <td>225000.0</td>\n      <td>640080.0</td>\n      <td>31261.5</td>\n      <td>450000.0</td>\n      <td>1.0</td>\n      <td>...</td>\n      <td>64039.5</td>\n      <td>5.0</td>\n      <td>1</td>\n      <td>-978.0</td>\n      <td>1</td>\n      <td>1.0</td>\n      <td>365243.0</td>\n      <td>-947.0</td>\n      <td>-850.0</td>\n      <td>0.0</td>\n    </tr>\n    <tr>\n      <th>10</th>\n      <td>186361</td>\n      <td>0</td>\n      <td>1</td>\n      <td>2</td>\n      <td>2.0</td>\n      <td>270000.0</td>\n      <td>906615.0</td>\n      <td>30091.5</td>\n      <td>688500.0</td>\n      <td>2.0</td>\n      <td>...</td>\n      <td>34353.0</td>\n      <td>6.0</td>\n      <td>2</td>\n      <td>-1964.0</td>\n      <td>2</td>\n      <td>2.0</td>\n      <td>365243.0</td>\n      <td>-1929.0</td>\n      <td>-1774.0</td>\n      <td>0.0</td>\n    </tr>\n    <tr>\n      <th>14</th>\n      <td>255272</td>\n      <td>0</td>\n      <td>1</td>\n      <td>1</td>\n      <td>1.0</td>\n      <td>247500.0</td>\n      <td>622413.0</td>\n      <td>33894.0</td>\n      <td>495000.0</td>\n      <td>1.0</td>\n      <td>...</td>\n      <td>91791.0</td>\n      <td>6.0</td>\n      <td>3</td>\n      <td>-463.0</td>\n      <td>3</td>\n      <td>1.0</td>\n      <td>365243.0</td>\n      <td>-432.0</td>\n      <td>365243.0</td>\n      <td>0.0</td>\n    </tr>\n    <tr>\n      <th>16</th>\n      <td>123747</td>\n      <td>1</td>\n      <td>1</td>\n      <td>2</td>\n      <td>1.0</td>\n      <td>112500.0</td>\n      <td>720000.0</td>\n      <td>25506.0</td>\n      <td>720000.0</td>\n      <td>1.0</td>\n      <td>...</td>\n      <td>57919.5</td>\n      <td>6.0</td>\n      <td>4</td>\n      <td>-536.0</td>\n      <td>4</td>\n      <td>4.0</td>\n      <td>365243.0</td>\n      <td>-505.0</td>\n      <td>365243.0</td>\n      <td>0.0</td>\n    </tr>\n  </tbody>\n</table>\n<p>5 rows × 44 columns</p>\n</div>"
     },
     "metadata": {},
     "execution_count": 22
    }
   ],
   "source": [
    "## putting all feature ordinal and all of the previous feature needed into new dataframe\n",
    "df_new_test_train = df_new[['LN_ID', 'TARGET','contract_type_ord','gender_ord', 'num_of_children_ord',        'INCOME','APPROVED_CREDIT', 'ANNUITY', 'PRICE', 'income_type_ord', 'education_ord',\n",
    "       'family_status_ord', 'housing_type_ord', 'DAYS_AGE', 'DAYS_WORK',\n",
    "       'DAYS_REGISTRATION', 'DAYS_ID_CHANGE', 'weekdays_apply_ord', 'HOUR_APPLY',\n",
    "       'organization_type_ord', 'EXT_SCORE_1', 'EXT_SCORE_2', 'EXT_SCORE_3',\n",
    "       'SK_ID_PREV', 'INST_NUMBER', 'INST_DAYS', 'PAY_DAYS', 'AMT_INST',\n",
    "       'AMT_PAY', 'contract_type_prevapp_ord', 'ANNUITY_PREV_APP', 'APPLICATION',\n",
    "       'APPROVED_CREDIT_PREV_APP', 'AMT_DOWN_PAYMENT', 'PRICE_PREV_APP',\n",
    "       'weekdays_apply_prevapp_ord', 'hour_apply_prevapp_ord', 'DAYS_DECISION',\n",
    "       'term_payment_ord', 'yield_group_ord', 'FIRST_DRAW', 'FIRST_DUE', 'TERMINATION',\n",
    "       'NFLAG_INSURED_ON_APPROVAL']]\n",
    "df_new_test_train = df_new_test_train.dropna(axis=0)\n",
    "df_new_test_train.head()"
   ]
  },
  {
   "cell_type": "code",
   "execution_count": 23,
   "metadata": {},
   "outputs": [],
   "source": [
    "# df_new_test_train.to_csv('Encoded_Modelling_Risk_Dataset.csv')"
   ]
  },
  {
   "cell_type": "markdown",
   "metadata": {},
   "source": [
    "## __2. Feature Selection:__ Correlation Analysis, Random Forrest, and SelectKBest (f_classif)"
   ]
  },
  {
   "cell_type": "code",
   "execution_count": 24,
   "metadata": {
    "tags": []
   },
   "outputs": [
    {
     "output_type": "stream",
     "name": "stdout",
     "text": "Specs       Score\n19      EXT_SCORE_1  311.627961\n21      EXT_SCORE_3  243.185441\n12         DAYS_AGE   88.463563\n8   income_type_ord   32.061819\n15   DAYS_ID_CHANGE   24.892573\n7             PRICE   18.723380\n13        DAYS_WORK   17.923287\n24        INST_DAYS   17.544501\n25         PAY_DAYS   17.273581\n40        FIRST_DUE   16.443101\n"
    }
   ],
   "source": [
    "#feature selection using SelectKBest\n",
    "x = df_new_test_train[['LN_ID', 'contract_type_ord','gender_ord', 'num_of_children_ord',                      'INCOME','APPROVED_CREDIT', 'ANNUITY', 'PRICE', 'income_type_ord', 'education_ord',\n",
    "       'family_status_ord', 'housing_type_ord', 'DAYS_AGE', 'DAYS_WORK',\n",
    "       'DAYS_REGISTRATION', 'DAYS_ID_CHANGE', 'weekdays_apply_ord', 'HOUR_APPLY',\n",
    "       'organization_type_ord', 'EXT_SCORE_1', 'EXT_SCORE_2', 'EXT_SCORE_3',\n",
    "       'SK_ID_PREV', 'INST_NUMBER', 'INST_DAYS', 'PAY_DAYS', 'AMT_INST',\n",
    "       'AMT_PAY', 'contract_type_prevapp_ord', 'ANNUITY_PREV_APP', 'APPLICATION',\n",
    "       'APPROVED_CREDIT_PREV_APP', 'AMT_DOWN_PAYMENT', 'PRICE_PREV_APP',\n",
    "       'weekdays_apply_prevapp_ord', 'hour_apply_prevapp_ord', 'DAYS_DECISION',\n",
    "       'term_payment_ord', 'yield_group_ord', 'FIRST_DRAW', 'FIRST_DUE', 'TERMINATION',\n",
    "       'NFLAG_INSURED_ON_APPROVAL']]\n",
    "y = df_new_test_train['TARGET']  \n",
    "\n",
    "#apply SelectKBest class to extract top 10 best features\n",
    "bestfeatures = SelectKBest(score_func=f_classif, k=10)\n",
    "fit = bestfeatures.fit(x,y)\n",
    "dfscores = pd.DataFrame(fit.scores_)\n",
    "dfcolumns = pd.DataFrame(x.columns)\n",
    "\n",
    "#concat two dataframes for better visualization \n",
    "featureScores = pd.concat([dfcolumns,dfscores],axis=1)\n",
    "featureScores.columns = ['Specs','Score'] \n",
    "print(featureScores.nlargest(10,'Score'))  "
   ]
  },
  {
   "cell_type": "code",
   "execution_count": 25,
   "metadata": {},
   "outputs": [
    {
     "output_type": "display_data",
     "data": {
      "text/plain": "<Figure size 432x288 with 1 Axes>",
      "image/svg+xml": "<?xml version=\"1.0\" encoding=\"utf-8\" standalone=\"no\"?>\r\n<!DOCTYPE svg PUBLIC \"-//W3C//DTD SVG 1.1//EN\"\r\n  \"http://www.w3.org/Graphics/SVG/1.1/DTD/svg11.dtd\">\r\n<!-- Created with matplotlib (https://matplotlib.org/) -->\r\n<svg height=\"248.518125pt\" version=\"1.1\" viewBox=\"0 0 469.587671 248.518125\" width=\"469.587671pt\" xmlns=\"http://www.w3.org/2000/svg\" xmlns:xlink=\"http://www.w3.org/1999/xlink\">\r\n <metadata>\r\n  <rdf:RDF xmlns:cc=\"http://creativecommons.org/ns#\" xmlns:dc=\"http://purl.org/dc/elements/1.1/\" xmlns:rdf=\"http://www.w3.org/1999/02/22-rdf-syntax-ns#\">\r\n   <cc:Work>\r\n    <dc:type rdf:resource=\"http://purl.org/dc/dcmitype/StillImage\"/>\r\n    <dc:date>2020-09-22T19:21:16.304623</dc:date>\r\n    <dc:format>image/svg+xml</dc:format>\r\n    <dc:creator>\r\n     <cc:Agent>\r\n      <dc:title>Matplotlib v3.3.1, https://matplotlib.org/</dc:title>\r\n     </cc:Agent>\r\n    </dc:creator>\r\n   </cc:Work>\r\n  </rdf:RDF>\r\n </metadata>\r\n <defs>\r\n  <style type=\"text/css\">*{stroke-linecap:butt;stroke-linejoin:round;}</style>\r\n </defs>\r\n <g id=\"figure_1\">\r\n  <g id=\"patch_1\">\r\n   <path d=\"M 0 248.518125 \r\nL 469.587671 248.518125 \r\nL 469.587671 0 \r\nL 0 0 \r\nz\r\n\" style=\"fill:none;\"/>\r\n  </g>\r\n  <g id=\"axes_1\">\r\n   <g id=\"patch_2\">\r\n    <path d=\"M 118.69375 224.64 \r\nL 453.49375 224.64 \r\nL 453.49375 7.2 \r\nL 118.69375 7.2 \r\nz\r\n\" style=\"fill:#ffffff;\"/>\r\n   </g>\r\n   <g id=\"patch_3\">\r\n    <path clip-path=\"url(#p1d93b20091)\" d=\"M 118.69375 219.204 \r\nL 437.550893 219.204 \r\nL 437.550893 208.332 \r\nL 118.69375 208.332 \r\nz\r\n\" style=\"fill:#1f77b4;\"/>\r\n   </g>\r\n   <g id=\"patch_4\">\r\n    <path clip-path=\"url(#p1d93b20091)\" d=\"M 118.69375 197.46 \r\nL 398.558993 197.46 \r\nL 398.558993 186.588 \r\nL 118.69375 186.588 \r\nz\r\n\" style=\"fill:#1f77b4;\"/>\r\n   </g>\r\n   <g id=\"patch_5\">\r\n    <path clip-path=\"url(#p1d93b20091)\" d=\"M 118.69375 175.716 \r\nL 376.511844 175.716 \r\nL 376.511844 164.844 \r\nL 118.69375 164.844 \r\nz\r\n\" style=\"fill:#1f77b4;\"/>\r\n   </g>\r\n   <g id=\"patch_6\">\r\n    <path clip-path=\"url(#p1d93b20091)\" d=\"M 118.69375 153.972 \r\nL 304.082309 153.972 \r\nL 304.082309 143.1 \r\nL 118.69375 143.1 \r\nz\r\n\" style=\"fill:#1f77b4;\"/>\r\n   </g>\r\n   <g id=\"patch_7\">\r\n    <path clip-path=\"url(#p1d93b20091)\" d=\"M 118.69375 132.228 \r\nL 289.182982 132.228 \r\nL 289.182982 121.356 \r\nL 118.69375 121.356 \r\nz\r\n\" style=\"fill:#1f77b4;\"/>\r\n   </g>\r\n   <g id=\"patch_8\">\r\n    <path clip-path=\"url(#p1d93b20091)\" d=\"M 118.69375 110.484 \r\nL 280.245768 110.484 \r\nL 280.245768 99.612 \r\nL 118.69375 99.612 \r\nz\r\n\" style=\"fill:#1f77b4;\"/>\r\n   </g>\r\n   <g id=\"patch_9\">\r\n    <path clip-path=\"url(#p1d93b20091)\" d=\"M 118.69375 88.74 \r\nL 280.181691 88.74 \r\nL 280.181691 77.868 \r\nL 118.69375 77.868 \r\nz\r\n\" style=\"fill:#1f77b4;\"/>\r\n   </g>\r\n   <g id=\"patch_10\">\r\n    <path clip-path=\"url(#p1d93b20091)\" d=\"M 118.69375 66.996 \r\nL 280.031575 66.996 \r\nL 280.031575 56.124 \r\nL 118.69375 56.124 \r\nz\r\n\" style=\"fill:#1f77b4;\"/>\r\n   </g>\r\n   <g id=\"patch_11\">\r\n    <path clip-path=\"url(#p1d93b20091)\" d=\"M 118.69375 45.252 \r\nL 270.196629 45.252 \r\nL 270.196629 34.38 \r\nL 118.69375 34.38 \r\nz\r\n\" style=\"fill:#1f77b4;\"/>\r\n   </g>\r\n   <g id=\"patch_12\">\r\n    <path clip-path=\"url(#p1d93b20091)\" d=\"M 118.69375 23.508 \r\nL 263.588401 23.508 \r\nL 263.588401 12.636 \r\nL 118.69375 12.636 \r\nz\r\n\" style=\"fill:#1f77b4;\"/>\r\n   </g>\r\n   <g id=\"matplotlib.axis_1\">\r\n    <g id=\"xtick_1\">\r\n     <g id=\"line2d_1\">\r\n      <defs>\r\n       <path d=\"M 0 0 \r\nL 0 3.5 \r\n\" id=\"m757ea59b8b\" style=\"stroke:#000000;stroke-width:0.8;\"/>\r\n      </defs>\r\n      <g>\r\n       <use style=\"stroke:#000000;stroke-width:0.8;\" x=\"118.69375\" xlink:href=\"#m757ea59b8b\" y=\"224.64\"/>\r\n      </g>\r\n     </g>\r\n     <g id=\"text_1\">\r\n      <!-- 0.00 -->\r\n      <g transform=\"translate(107.560937 239.238437)scale(0.1 -0.1)\">\r\n       <defs>\r\n        <path d=\"M 31.78125 66.40625 \r\nQ 24.171875 66.40625 20.328125 58.90625 \r\nQ 16.5 51.421875 16.5 36.375 \r\nQ 16.5 21.390625 20.328125 13.890625 \r\nQ 24.171875 6.390625 31.78125 6.390625 \r\nQ 39.453125 6.390625 43.28125 13.890625 \r\nQ 47.125 21.390625 47.125 36.375 \r\nQ 47.125 51.421875 43.28125 58.90625 \r\nQ 39.453125 66.40625 31.78125 66.40625 \r\nz\r\nM 31.78125 74.21875 \r\nQ 44.046875 74.21875 50.515625 64.515625 \r\nQ 56.984375 54.828125 56.984375 36.375 \r\nQ 56.984375 17.96875 50.515625 8.265625 \r\nQ 44.046875 -1.421875 31.78125 -1.421875 \r\nQ 19.53125 -1.421875 13.0625 8.265625 \r\nQ 6.59375 17.96875 6.59375 36.375 \r\nQ 6.59375 54.828125 13.0625 64.515625 \r\nQ 19.53125 74.21875 31.78125 74.21875 \r\nz\r\n\" id=\"DejaVuSans-48\"/>\r\n        <path d=\"M 10.6875 12.40625 \r\nL 21 12.40625 \r\nL 21 0 \r\nL 10.6875 0 \r\nz\r\n\" id=\"DejaVuSans-46\"/>\r\n       </defs>\r\n       <use xlink:href=\"#DejaVuSans-48\"/>\r\n       <use x=\"63.623047\" xlink:href=\"#DejaVuSans-46\"/>\r\n       <use x=\"95.410156\" xlink:href=\"#DejaVuSans-48\"/>\r\n       <use x=\"159.033203\" xlink:href=\"#DejaVuSans-48\"/>\r\n      </g>\r\n     </g>\r\n    </g>\r\n    <g id=\"xtick_2\">\r\n     <g id=\"line2d_2\">\r\n      <g>\r\n       <use style=\"stroke:#000000;stroke-width:0.8;\" x=\"166.20248\" xlink:href=\"#m757ea59b8b\" y=\"224.64\"/>\r\n      </g>\r\n     </g>\r\n     <g id=\"text_2\">\r\n      <!-- 0.01 -->\r\n      <g transform=\"translate(155.069667 239.238437)scale(0.1 -0.1)\">\r\n       <defs>\r\n        <path d=\"M 12.40625 8.296875 \r\nL 28.515625 8.296875 \r\nL 28.515625 63.921875 \r\nL 10.984375 60.40625 \r\nL 10.984375 69.390625 \r\nL 28.421875 72.90625 \r\nL 38.28125 72.90625 \r\nL 38.28125 8.296875 \r\nL 54.390625 8.296875 \r\nL 54.390625 0 \r\nL 12.40625 0 \r\nz\r\n\" id=\"DejaVuSans-49\"/>\r\n       </defs>\r\n       <use xlink:href=\"#DejaVuSans-48\"/>\r\n       <use x=\"63.623047\" xlink:href=\"#DejaVuSans-46\"/>\r\n       <use x=\"95.410156\" xlink:href=\"#DejaVuSans-48\"/>\r\n       <use x=\"159.033203\" xlink:href=\"#DejaVuSans-49\"/>\r\n      </g>\r\n     </g>\r\n    </g>\r\n    <g id=\"xtick_3\">\r\n     <g id=\"line2d_3\">\r\n      <g>\r\n       <use style=\"stroke:#000000;stroke-width:0.8;\" x=\"213.711209\" xlink:href=\"#m757ea59b8b\" y=\"224.64\"/>\r\n      </g>\r\n     </g>\r\n     <g id=\"text_3\">\r\n      <!-- 0.02 -->\r\n      <g transform=\"translate(202.578397 239.238437)scale(0.1 -0.1)\">\r\n       <defs>\r\n        <path d=\"M 19.1875 8.296875 \r\nL 53.609375 8.296875 \r\nL 53.609375 0 \r\nL 7.328125 0 \r\nL 7.328125 8.296875 \r\nQ 12.9375 14.109375 22.625 23.890625 \r\nQ 32.328125 33.6875 34.8125 36.53125 \r\nQ 39.546875 41.84375 41.421875 45.53125 \r\nQ 43.3125 49.21875 43.3125 52.78125 \r\nQ 43.3125 58.59375 39.234375 62.25 \r\nQ 35.15625 65.921875 28.609375 65.921875 \r\nQ 23.96875 65.921875 18.8125 64.3125 \r\nQ 13.671875 62.703125 7.8125 59.421875 \r\nL 7.8125 69.390625 \r\nQ 13.765625 71.78125 18.9375 73 \r\nQ 24.125 74.21875 28.421875 74.21875 \r\nQ 39.75 74.21875 46.484375 68.546875 \r\nQ 53.21875 62.890625 53.21875 53.421875 \r\nQ 53.21875 48.921875 51.53125 44.890625 \r\nQ 49.859375 40.875 45.40625 35.40625 \r\nQ 44.1875 33.984375 37.640625 27.21875 \r\nQ 31.109375 20.453125 19.1875 8.296875 \r\nz\r\n\" id=\"DejaVuSans-50\"/>\r\n       </defs>\r\n       <use xlink:href=\"#DejaVuSans-48\"/>\r\n       <use x=\"63.623047\" xlink:href=\"#DejaVuSans-46\"/>\r\n       <use x=\"95.410156\" xlink:href=\"#DejaVuSans-48\"/>\r\n       <use x=\"159.033203\" xlink:href=\"#DejaVuSans-50\"/>\r\n      </g>\r\n     </g>\r\n    </g>\r\n    <g id=\"xtick_4\">\r\n     <g id=\"line2d_4\">\r\n      <g>\r\n       <use style=\"stroke:#000000;stroke-width:0.8;\" x=\"261.219939\" xlink:href=\"#m757ea59b8b\" y=\"224.64\"/>\r\n      </g>\r\n     </g>\r\n     <g id=\"text_4\">\r\n      <!-- 0.03 -->\r\n      <g transform=\"translate(250.087127 239.238437)scale(0.1 -0.1)\">\r\n       <defs>\r\n        <path d=\"M 40.578125 39.3125 \r\nQ 47.65625 37.796875 51.625 33 \r\nQ 55.609375 28.21875 55.609375 21.1875 \r\nQ 55.609375 10.40625 48.1875 4.484375 \r\nQ 40.765625 -1.421875 27.09375 -1.421875 \r\nQ 22.515625 -1.421875 17.65625 -0.515625 \r\nQ 12.796875 0.390625 7.625 2.203125 \r\nL 7.625 11.71875 \r\nQ 11.71875 9.328125 16.59375 8.109375 \r\nQ 21.484375 6.890625 26.8125 6.890625 \r\nQ 36.078125 6.890625 40.9375 10.546875 \r\nQ 45.796875 14.203125 45.796875 21.1875 \r\nQ 45.796875 27.640625 41.28125 31.265625 \r\nQ 36.765625 34.90625 28.71875 34.90625 \r\nL 20.21875 34.90625 \r\nL 20.21875 43.015625 \r\nL 29.109375 43.015625 \r\nQ 36.375 43.015625 40.234375 45.921875 \r\nQ 44.09375 48.828125 44.09375 54.296875 \r\nQ 44.09375 59.90625 40.109375 62.90625 \r\nQ 36.140625 65.921875 28.71875 65.921875 \r\nQ 24.65625 65.921875 20.015625 65.03125 \r\nQ 15.375 64.15625 9.8125 62.3125 \r\nL 9.8125 71.09375 \r\nQ 15.4375 72.65625 20.34375 73.4375 \r\nQ 25.25 74.21875 29.59375 74.21875 \r\nQ 40.828125 74.21875 47.359375 69.109375 \r\nQ 53.90625 64.015625 53.90625 55.328125 \r\nQ 53.90625 49.265625 50.4375 45.09375 \r\nQ 46.96875 40.921875 40.578125 39.3125 \r\nz\r\n\" id=\"DejaVuSans-51\"/>\r\n       </defs>\r\n       <use xlink:href=\"#DejaVuSans-48\"/>\r\n       <use x=\"63.623047\" xlink:href=\"#DejaVuSans-46\"/>\r\n       <use x=\"95.410156\" xlink:href=\"#DejaVuSans-48\"/>\r\n       <use x=\"159.033203\" xlink:href=\"#DejaVuSans-51\"/>\r\n      </g>\r\n     </g>\r\n    </g>\r\n    <g id=\"xtick_5\">\r\n     <g id=\"line2d_5\">\r\n      <g>\r\n       <use style=\"stroke:#000000;stroke-width:0.8;\" x=\"308.728669\" xlink:href=\"#m757ea59b8b\" y=\"224.64\"/>\r\n      </g>\r\n     </g>\r\n     <g id=\"text_5\">\r\n      <!-- 0.04 -->\r\n      <g transform=\"translate(297.595856 239.238437)scale(0.1 -0.1)\">\r\n       <defs>\r\n        <path d=\"M 37.796875 64.3125 \r\nL 12.890625 25.390625 \r\nL 37.796875 25.390625 \r\nz\r\nM 35.203125 72.90625 \r\nL 47.609375 72.90625 \r\nL 47.609375 25.390625 \r\nL 58.015625 25.390625 \r\nL 58.015625 17.1875 \r\nL 47.609375 17.1875 \r\nL 47.609375 0 \r\nL 37.796875 0 \r\nL 37.796875 17.1875 \r\nL 4.890625 17.1875 \r\nL 4.890625 26.703125 \r\nz\r\n\" id=\"DejaVuSans-52\"/>\r\n       </defs>\r\n       <use xlink:href=\"#DejaVuSans-48\"/>\r\n       <use x=\"63.623047\" xlink:href=\"#DejaVuSans-46\"/>\r\n       <use x=\"95.410156\" xlink:href=\"#DejaVuSans-48\"/>\r\n       <use x=\"159.033203\" xlink:href=\"#DejaVuSans-52\"/>\r\n      </g>\r\n     </g>\r\n    </g>\r\n    <g id=\"xtick_6\">\r\n     <g id=\"line2d_6\">\r\n      <g>\r\n       <use style=\"stroke:#000000;stroke-width:0.8;\" x=\"356.237399\" xlink:href=\"#m757ea59b8b\" y=\"224.64\"/>\r\n      </g>\r\n     </g>\r\n     <g id=\"text_6\">\r\n      <!-- 0.05 -->\r\n      <g transform=\"translate(345.104586 239.238437)scale(0.1 -0.1)\">\r\n       <defs>\r\n        <path d=\"M 10.796875 72.90625 \r\nL 49.515625 72.90625 \r\nL 49.515625 64.59375 \r\nL 19.828125 64.59375 \r\nL 19.828125 46.734375 \r\nQ 21.96875 47.46875 24.109375 47.828125 \r\nQ 26.265625 48.1875 28.421875 48.1875 \r\nQ 40.625 48.1875 47.75 41.5 \r\nQ 54.890625 34.8125 54.890625 23.390625 \r\nQ 54.890625 11.625 47.5625 5.09375 \r\nQ 40.234375 -1.421875 26.90625 -1.421875 \r\nQ 22.3125 -1.421875 17.546875 -0.640625 \r\nQ 12.796875 0.140625 7.71875 1.703125 \r\nL 7.71875 11.625 \r\nQ 12.109375 9.234375 16.796875 8.0625 \r\nQ 21.484375 6.890625 26.703125 6.890625 \r\nQ 35.15625 6.890625 40.078125 11.328125 \r\nQ 45.015625 15.765625 45.015625 23.390625 \r\nQ 45.015625 31 40.078125 35.4375 \r\nQ 35.15625 39.890625 26.703125 39.890625 \r\nQ 22.75 39.890625 18.8125 39.015625 \r\nQ 14.890625 38.140625 10.796875 36.28125 \r\nz\r\n\" id=\"DejaVuSans-53\"/>\r\n       </defs>\r\n       <use xlink:href=\"#DejaVuSans-48\"/>\r\n       <use x=\"63.623047\" xlink:href=\"#DejaVuSans-46\"/>\r\n       <use x=\"95.410156\" xlink:href=\"#DejaVuSans-48\"/>\r\n       <use x=\"159.033203\" xlink:href=\"#DejaVuSans-53\"/>\r\n      </g>\r\n     </g>\r\n    </g>\r\n    <g id=\"xtick_7\">\r\n     <g id=\"line2d_7\">\r\n      <g>\r\n       <use style=\"stroke:#000000;stroke-width:0.8;\" x=\"403.746128\" xlink:href=\"#m757ea59b8b\" y=\"224.64\"/>\r\n      </g>\r\n     </g>\r\n     <g id=\"text_7\">\r\n      <!-- 0.06 -->\r\n      <g transform=\"translate(392.613316 239.238437)scale(0.1 -0.1)\">\r\n       <defs>\r\n        <path d=\"M 33.015625 40.375 \r\nQ 26.375 40.375 22.484375 35.828125 \r\nQ 18.609375 31.296875 18.609375 23.390625 \r\nQ 18.609375 15.53125 22.484375 10.953125 \r\nQ 26.375 6.390625 33.015625 6.390625 \r\nQ 39.65625 6.390625 43.53125 10.953125 \r\nQ 47.40625 15.53125 47.40625 23.390625 \r\nQ 47.40625 31.296875 43.53125 35.828125 \r\nQ 39.65625 40.375 33.015625 40.375 \r\nz\r\nM 52.59375 71.296875 \r\nL 52.59375 62.3125 \r\nQ 48.875 64.0625 45.09375 64.984375 \r\nQ 41.3125 65.921875 37.59375 65.921875 \r\nQ 27.828125 65.921875 22.671875 59.328125 \r\nQ 17.53125 52.734375 16.796875 39.40625 \r\nQ 19.671875 43.65625 24.015625 45.921875 \r\nQ 28.375 48.1875 33.59375 48.1875 \r\nQ 44.578125 48.1875 50.953125 41.515625 \r\nQ 57.328125 34.859375 57.328125 23.390625 \r\nQ 57.328125 12.15625 50.6875 5.359375 \r\nQ 44.046875 -1.421875 33.015625 -1.421875 \r\nQ 20.359375 -1.421875 13.671875 8.265625 \r\nQ 6.984375 17.96875 6.984375 36.375 \r\nQ 6.984375 53.65625 15.1875 63.9375 \r\nQ 23.390625 74.21875 37.203125 74.21875 \r\nQ 40.921875 74.21875 44.703125 73.484375 \r\nQ 48.484375 72.75 52.59375 71.296875 \r\nz\r\n\" id=\"DejaVuSans-54\"/>\r\n       </defs>\r\n       <use xlink:href=\"#DejaVuSans-48\"/>\r\n       <use x=\"63.623047\" xlink:href=\"#DejaVuSans-46\"/>\r\n       <use x=\"95.410156\" xlink:href=\"#DejaVuSans-48\"/>\r\n       <use x=\"159.033203\" xlink:href=\"#DejaVuSans-54\"/>\r\n      </g>\r\n     </g>\r\n    </g>\r\n    <g id=\"xtick_8\">\r\n     <g id=\"line2d_8\">\r\n      <g>\r\n       <use style=\"stroke:#000000;stroke-width:0.8;\" x=\"451.254858\" xlink:href=\"#m757ea59b8b\" y=\"224.64\"/>\r\n      </g>\r\n     </g>\r\n     <g id=\"text_8\">\r\n      <!-- 0.07 -->\r\n      <g transform=\"translate(440.122046 239.238437)scale(0.1 -0.1)\">\r\n       <defs>\r\n        <path d=\"M 8.203125 72.90625 \r\nL 55.078125 72.90625 \r\nL 55.078125 68.703125 \r\nL 28.609375 0 \r\nL 18.3125 0 \r\nL 43.21875 64.59375 \r\nL 8.203125 64.59375 \r\nz\r\n\" id=\"DejaVuSans-55\"/>\r\n       </defs>\r\n       <use xlink:href=\"#DejaVuSans-48\"/>\r\n       <use x=\"63.623047\" xlink:href=\"#DejaVuSans-46\"/>\r\n       <use x=\"95.410156\" xlink:href=\"#DejaVuSans-48\"/>\r\n       <use x=\"159.033203\" xlink:href=\"#DejaVuSans-55\"/>\r\n      </g>\r\n     </g>\r\n    </g>\r\n   </g>\r\n   <g id=\"matplotlib.axis_2\">\r\n    <g id=\"ytick_1\">\r\n     <g id=\"line2d_9\">\r\n      <defs>\r\n       <path d=\"M 0 0 \r\nL -3.5 0 \r\n\" id=\"m09cb063de1\" style=\"stroke:#000000;stroke-width:0.8;\"/>\r\n      </defs>\r\n      <g>\r\n       <use style=\"stroke:#000000;stroke-width:0.8;\" x=\"118.69375\" xlink:href=\"#m09cb063de1\" y=\"213.768\"/>\r\n      </g>\r\n     </g>\r\n     <g id=\"text_9\">\r\n      <!-- EXT_SCORE_1 -->\r\n      <g transform=\"translate(41.759375 217.478937)scale(0.1 -0.1)\">\r\n       <defs>\r\n        <path d=\"M 9.8125 72.90625 \r\nL 55.90625 72.90625 \r\nL 55.90625 64.59375 \r\nL 19.671875 64.59375 \r\nL 19.671875 43.015625 \r\nL 54.390625 43.015625 \r\nL 54.390625 34.71875 \r\nL 19.671875 34.71875 \r\nL 19.671875 8.296875 \r\nL 56.78125 8.296875 \r\nL 56.78125 0 \r\nL 9.8125 0 \r\nz\r\n\" id=\"DejaVuSans-69\"/>\r\n        <path d=\"M 6.296875 72.90625 \r\nL 16.890625 72.90625 \r\nL 35.015625 45.796875 \r\nL 53.21875 72.90625 \r\nL 63.8125 72.90625 \r\nL 40.375 37.890625 \r\nL 65.375 0 \r\nL 54.78125 0 \r\nL 34.28125 31 \r\nL 13.625 0 \r\nL 2.984375 0 \r\nL 29 38.921875 \r\nz\r\n\" id=\"DejaVuSans-88\"/>\r\n        <path d=\"M -0.296875 72.90625 \r\nL 61.375 72.90625 \r\nL 61.375 64.59375 \r\nL 35.5 64.59375 \r\nL 35.5 0 \r\nL 25.59375 0 \r\nL 25.59375 64.59375 \r\nL -0.296875 64.59375 \r\nz\r\n\" id=\"DejaVuSans-84\"/>\r\n        <path d=\"M 50.984375 -16.609375 \r\nL 50.984375 -23.578125 \r\nL -0.984375 -23.578125 \r\nL -0.984375 -16.609375 \r\nz\r\n\" id=\"DejaVuSans-95\"/>\r\n        <path d=\"M 53.515625 70.515625 \r\nL 53.515625 60.890625 \r\nQ 47.90625 63.578125 42.921875 64.890625 \r\nQ 37.9375 66.21875 33.296875 66.21875 \r\nQ 25.25 66.21875 20.875 63.09375 \r\nQ 16.5 59.96875 16.5 54.203125 \r\nQ 16.5 49.359375 19.40625 46.890625 \r\nQ 22.3125 44.4375 30.421875 42.921875 \r\nL 36.375 41.703125 \r\nQ 47.40625 39.59375 52.65625 34.296875 \r\nQ 57.90625 29 57.90625 20.125 \r\nQ 57.90625 9.515625 50.796875 4.046875 \r\nQ 43.703125 -1.421875 29.984375 -1.421875 \r\nQ 24.8125 -1.421875 18.96875 -0.25 \r\nQ 13.140625 0.921875 6.890625 3.21875 \r\nL 6.890625 13.375 \r\nQ 12.890625 10.015625 18.65625 8.296875 \r\nQ 24.421875 6.59375 29.984375 6.59375 \r\nQ 38.421875 6.59375 43.015625 9.90625 \r\nQ 47.609375 13.234375 47.609375 19.390625 \r\nQ 47.609375 24.75 44.3125 27.78125 \r\nQ 41.015625 30.8125 33.5 32.328125 \r\nL 27.484375 33.5 \r\nQ 16.453125 35.6875 11.515625 40.375 \r\nQ 6.59375 45.0625 6.59375 53.421875 \r\nQ 6.59375 63.09375 13.40625 68.65625 \r\nQ 20.21875 74.21875 32.171875 74.21875 \r\nQ 37.3125 74.21875 42.625 73.28125 \r\nQ 47.953125 72.359375 53.515625 70.515625 \r\nz\r\n\" id=\"DejaVuSans-83\"/>\r\n        <path d=\"M 64.40625 67.28125 \r\nL 64.40625 56.890625 \r\nQ 59.421875 61.53125 53.78125 63.8125 \r\nQ 48.140625 66.109375 41.796875 66.109375 \r\nQ 29.296875 66.109375 22.65625 58.46875 \r\nQ 16.015625 50.828125 16.015625 36.375 \r\nQ 16.015625 21.96875 22.65625 14.328125 \r\nQ 29.296875 6.6875 41.796875 6.6875 \r\nQ 48.140625 6.6875 53.78125 8.984375 \r\nQ 59.421875 11.28125 64.40625 15.921875 \r\nL 64.40625 5.609375 \r\nQ 59.234375 2.09375 53.4375 0.328125 \r\nQ 47.65625 -1.421875 41.21875 -1.421875 \r\nQ 24.65625 -1.421875 15.125 8.703125 \r\nQ 5.609375 18.84375 5.609375 36.375 \r\nQ 5.609375 53.953125 15.125 64.078125 \r\nQ 24.65625 74.21875 41.21875 74.21875 \r\nQ 47.75 74.21875 53.53125 72.484375 \r\nQ 59.328125 70.75 64.40625 67.28125 \r\nz\r\n\" id=\"DejaVuSans-67\"/>\r\n        <path d=\"M 39.40625 66.21875 \r\nQ 28.65625 66.21875 22.328125 58.203125 \r\nQ 16.015625 50.203125 16.015625 36.375 \r\nQ 16.015625 22.609375 22.328125 14.59375 \r\nQ 28.65625 6.59375 39.40625 6.59375 \r\nQ 50.140625 6.59375 56.421875 14.59375 \r\nQ 62.703125 22.609375 62.703125 36.375 \r\nQ 62.703125 50.203125 56.421875 58.203125 \r\nQ 50.140625 66.21875 39.40625 66.21875 \r\nz\r\nM 39.40625 74.21875 \r\nQ 54.734375 74.21875 63.90625 63.9375 \r\nQ 73.09375 53.65625 73.09375 36.375 \r\nQ 73.09375 19.140625 63.90625 8.859375 \r\nQ 54.734375 -1.421875 39.40625 -1.421875 \r\nQ 24.03125 -1.421875 14.8125 8.828125 \r\nQ 5.609375 19.09375 5.609375 36.375 \r\nQ 5.609375 53.65625 14.8125 63.9375 \r\nQ 24.03125 74.21875 39.40625 74.21875 \r\nz\r\n\" id=\"DejaVuSans-79\"/>\r\n        <path d=\"M 44.390625 34.1875 \r\nQ 47.5625 33.109375 50.5625 29.59375 \r\nQ 53.5625 26.078125 56.59375 19.921875 \r\nL 66.609375 0 \r\nL 56 0 \r\nL 46.6875 18.703125 \r\nQ 43.0625 26.03125 39.671875 28.421875 \r\nQ 36.28125 30.8125 30.421875 30.8125 \r\nL 19.671875 30.8125 \r\nL 19.671875 0 \r\nL 9.8125 0 \r\nL 9.8125 72.90625 \r\nL 32.078125 72.90625 \r\nQ 44.578125 72.90625 50.734375 67.671875 \r\nQ 56.890625 62.453125 56.890625 51.90625 \r\nQ 56.890625 45.015625 53.6875 40.46875 \r\nQ 50.484375 35.9375 44.390625 34.1875 \r\nz\r\nM 19.671875 64.796875 \r\nL 19.671875 38.921875 \r\nL 32.078125 38.921875 \r\nQ 39.203125 38.921875 42.84375 42.21875 \r\nQ 46.484375 45.515625 46.484375 51.90625 \r\nQ 46.484375 58.296875 42.84375 61.546875 \r\nQ 39.203125 64.796875 32.078125 64.796875 \r\nz\r\n\" id=\"DejaVuSans-82\"/>\r\n       </defs>\r\n       <use xlink:href=\"#DejaVuSans-69\"/>\r\n       <use x=\"63.183594\" xlink:href=\"#DejaVuSans-88\"/>\r\n       <use x=\"129.939453\" xlink:href=\"#DejaVuSans-84\"/>\r\n       <use x=\"191.023438\" xlink:href=\"#DejaVuSans-95\"/>\r\n       <use x=\"241.023438\" xlink:href=\"#DejaVuSans-83\"/>\r\n       <use x=\"304.5\" xlink:href=\"#DejaVuSans-67\"/>\r\n       <use x=\"374.324219\" xlink:href=\"#DejaVuSans-79\"/>\r\n       <use x=\"453.035156\" xlink:href=\"#DejaVuSans-82\"/>\r\n       <use x=\"522.517578\" xlink:href=\"#DejaVuSans-69\"/>\r\n       <use x=\"585.701172\" xlink:href=\"#DejaVuSans-95\"/>\r\n       <use x=\"635.701172\" xlink:href=\"#DejaVuSans-49\"/>\r\n      </g>\r\n     </g>\r\n    </g>\r\n    <g id=\"ytick_2\">\r\n     <g id=\"line2d_10\">\r\n      <g>\r\n       <use style=\"stroke:#000000;stroke-width:0.8;\" x=\"118.69375\" xlink:href=\"#m09cb063de1\" y=\"192.024\"/>\r\n      </g>\r\n     </g>\r\n     <g id=\"text_10\">\r\n      <!-- EXT_SCORE_3 -->\r\n      <g transform=\"translate(41.759375 195.734937)scale(0.1 -0.1)\">\r\n       <use xlink:href=\"#DejaVuSans-69\"/>\r\n       <use x=\"63.183594\" xlink:href=\"#DejaVuSans-88\"/>\r\n       <use x=\"129.939453\" xlink:href=\"#DejaVuSans-84\"/>\r\n       <use x=\"191.023438\" xlink:href=\"#DejaVuSans-95\"/>\r\n       <use x=\"241.023438\" xlink:href=\"#DejaVuSans-83\"/>\r\n       <use x=\"304.5\" xlink:href=\"#DejaVuSans-67\"/>\r\n       <use x=\"374.324219\" xlink:href=\"#DejaVuSans-79\"/>\r\n       <use x=\"453.035156\" xlink:href=\"#DejaVuSans-82\"/>\r\n       <use x=\"522.517578\" xlink:href=\"#DejaVuSans-69\"/>\r\n       <use x=\"585.701172\" xlink:href=\"#DejaVuSans-95\"/>\r\n       <use x=\"635.701172\" xlink:href=\"#DejaVuSans-51\"/>\r\n      </g>\r\n     </g>\r\n    </g>\r\n    <g id=\"ytick_3\">\r\n     <g id=\"line2d_11\">\r\n      <g>\r\n       <use style=\"stroke:#000000;stroke-width:0.8;\" x=\"118.69375\" xlink:href=\"#m09cb063de1\" y=\"170.28\"/>\r\n      </g>\r\n     </g>\r\n     <g id=\"text_11\">\r\n      <!-- EXT_SCORE_2 -->\r\n      <g transform=\"translate(41.759375 173.990937)scale(0.1 -0.1)\">\r\n       <use xlink:href=\"#DejaVuSans-69\"/>\r\n       <use x=\"63.183594\" xlink:href=\"#DejaVuSans-88\"/>\r\n       <use x=\"129.939453\" xlink:href=\"#DejaVuSans-84\"/>\r\n       <use x=\"191.023438\" xlink:href=\"#DejaVuSans-95\"/>\r\n       <use x=\"241.023438\" xlink:href=\"#DejaVuSans-83\"/>\r\n       <use x=\"304.5\" xlink:href=\"#DejaVuSans-67\"/>\r\n       <use x=\"374.324219\" xlink:href=\"#DejaVuSans-79\"/>\r\n       <use x=\"453.035156\" xlink:href=\"#DejaVuSans-82\"/>\r\n       <use x=\"522.517578\" xlink:href=\"#DejaVuSans-69\"/>\r\n       <use x=\"585.701172\" xlink:href=\"#DejaVuSans-95\"/>\r\n       <use x=\"635.701172\" xlink:href=\"#DejaVuSans-50\"/>\r\n      </g>\r\n     </g>\r\n    </g>\r\n    <g id=\"ytick_4\">\r\n     <g id=\"line2d_12\">\r\n      <g>\r\n       <use style=\"stroke:#000000;stroke-width:0.8;\" x=\"118.69375\" xlink:href=\"#m09cb063de1\" y=\"148.536\"/>\r\n      </g>\r\n     </g>\r\n     <g id=\"text_12\">\r\n      <!-- LN_ID -->\r\n      <g transform=\"translate(82.990625 152.196156)scale(0.1 -0.1)\">\r\n       <defs>\r\n        <path d=\"M 9.8125 72.90625 \r\nL 19.671875 72.90625 \r\nL 19.671875 8.296875 \r\nL 55.171875 8.296875 \r\nL 55.171875 0 \r\nL 9.8125 0 \r\nz\r\n\" id=\"DejaVuSans-76\"/>\r\n        <path d=\"M 9.8125 72.90625 \r\nL 23.09375 72.90625 \r\nL 55.421875 11.921875 \r\nL 55.421875 72.90625 \r\nL 64.984375 72.90625 \r\nL 64.984375 0 \r\nL 51.703125 0 \r\nL 19.390625 60.984375 \r\nL 19.390625 0 \r\nL 9.8125 0 \r\nz\r\n\" id=\"DejaVuSans-78\"/>\r\n        <path d=\"M 9.8125 72.90625 \r\nL 19.671875 72.90625 \r\nL 19.671875 0 \r\nL 9.8125 0 \r\nz\r\n\" id=\"DejaVuSans-73\"/>\r\n        <path d=\"M 19.671875 64.796875 \r\nL 19.671875 8.109375 \r\nL 31.59375 8.109375 \r\nQ 46.6875 8.109375 53.6875 14.9375 \r\nQ 60.6875 21.78125 60.6875 36.53125 \r\nQ 60.6875 51.171875 53.6875 57.984375 \r\nQ 46.6875 64.796875 31.59375 64.796875 \r\nz\r\nM 9.8125 72.90625 \r\nL 30.078125 72.90625 \r\nQ 51.265625 72.90625 61.171875 64.09375 \r\nQ 71.09375 55.28125 71.09375 36.53125 \r\nQ 71.09375 17.671875 61.125 8.828125 \r\nQ 51.171875 0 30.078125 0 \r\nL 9.8125 0 \r\nz\r\n\" id=\"DejaVuSans-68\"/>\r\n       </defs>\r\n       <use xlink:href=\"#DejaVuSans-76\"/>\r\n       <use x=\"55.712891\" xlink:href=\"#DejaVuSans-78\"/>\r\n       <use x=\"130.517578\" xlink:href=\"#DejaVuSans-95\"/>\r\n       <use x=\"180.517578\" xlink:href=\"#DejaVuSans-73\"/>\r\n       <use x=\"210.009766\" xlink:href=\"#DejaVuSans-68\"/>\r\n      </g>\r\n     </g>\r\n    </g>\r\n    <g id=\"ytick_5\">\r\n     <g id=\"line2d_13\">\r\n      <g>\r\n       <use style=\"stroke:#000000;stroke-width:0.8;\" x=\"118.69375\" xlink:href=\"#m09cb063de1\" y=\"126.792\"/>\r\n      </g>\r\n     </g>\r\n     <g id=\"text_13\">\r\n      <!-- DAYS_AGE -->\r\n      <g transform=\"translate(59.914062 130.502937)scale(0.1 -0.1)\">\r\n       <defs>\r\n        <path d=\"M 34.1875 63.1875 \r\nL 20.796875 26.90625 \r\nL 47.609375 26.90625 \r\nz\r\nM 28.609375 72.90625 \r\nL 39.796875 72.90625 \r\nL 67.578125 0 \r\nL 57.328125 0 \r\nL 50.6875 18.703125 \r\nL 17.828125 18.703125 \r\nL 11.1875 0 \r\nL 0.78125 0 \r\nz\r\n\" id=\"DejaVuSans-65\"/>\r\n        <path d=\"M -0.203125 72.90625 \r\nL 10.40625 72.90625 \r\nL 30.609375 42.921875 \r\nL 50.6875 72.90625 \r\nL 61.28125 72.90625 \r\nL 35.5 34.71875 \r\nL 35.5 0 \r\nL 25.59375 0 \r\nL 25.59375 34.71875 \r\nz\r\n\" id=\"DejaVuSans-89\"/>\r\n        <path d=\"M 59.515625 10.40625 \r\nL 59.515625 29.984375 \r\nL 43.40625 29.984375 \r\nL 43.40625 38.09375 \r\nL 69.28125 38.09375 \r\nL 69.28125 6.78125 \r\nQ 63.578125 2.734375 56.6875 0.65625 \r\nQ 49.8125 -1.421875 42 -1.421875 \r\nQ 24.90625 -1.421875 15.25 8.5625 \r\nQ 5.609375 18.5625 5.609375 36.375 \r\nQ 5.609375 54.25 15.25 64.234375 \r\nQ 24.90625 74.21875 42 74.21875 \r\nQ 49.125 74.21875 55.546875 72.453125 \r\nQ 61.96875 70.703125 67.390625 67.28125 \r\nL 67.390625 56.78125 \r\nQ 61.921875 61.421875 55.765625 63.765625 \r\nQ 49.609375 66.109375 42.828125 66.109375 \r\nQ 29.4375 66.109375 22.71875 58.640625 \r\nQ 16.015625 51.171875 16.015625 36.375 \r\nQ 16.015625 21.625 22.71875 14.15625 \r\nQ 29.4375 6.6875 42.828125 6.6875 \r\nQ 48.046875 6.6875 52.140625 7.59375 \r\nQ 56.25 8.5 59.515625 10.40625 \r\nz\r\n\" id=\"DejaVuSans-71\"/>\r\n       </defs>\r\n       <use xlink:href=\"#DejaVuSans-68\"/>\r\n       <use x=\"75.251953\" xlink:href=\"#DejaVuSans-65\"/>\r\n       <use x=\"135.910156\" xlink:href=\"#DejaVuSans-89\"/>\r\n       <use x=\"196.994141\" xlink:href=\"#DejaVuSans-83\"/>\r\n       <use x=\"260.470703\" xlink:href=\"#DejaVuSans-95\"/>\r\n       <use x=\"310.470703\" xlink:href=\"#DejaVuSans-65\"/>\r\n       <use x=\"377.128906\" xlink:href=\"#DejaVuSans-71\"/>\r\n       <use x=\"454.619141\" xlink:href=\"#DejaVuSans-69\"/>\r\n      </g>\r\n     </g>\r\n    </g>\r\n    <g id=\"ytick_6\">\r\n     <g id=\"line2d_14\">\r\n      <g>\r\n       <use style=\"stroke:#000000;stroke-width:0.8;\" x=\"118.69375\" xlink:href=\"#m09cb063de1\" y=\"105.048\"/>\r\n      </g>\r\n     </g>\r\n     <g id=\"text_14\">\r\n      <!-- DAYS_REGISTRATION -->\r\n      <g transform=\"translate(7.2 108.758937)scale(0.1 -0.1)\">\r\n       <use xlink:href=\"#DejaVuSans-68\"/>\r\n       <use x=\"75.251953\" xlink:href=\"#DejaVuSans-65\"/>\r\n       <use x=\"135.910156\" xlink:href=\"#DejaVuSans-89\"/>\r\n       <use x=\"196.994141\" xlink:href=\"#DejaVuSans-83\"/>\r\n       <use x=\"260.470703\" xlink:href=\"#DejaVuSans-95\"/>\r\n       <use x=\"310.470703\" xlink:href=\"#DejaVuSans-82\"/>\r\n       <use x=\"379.953125\" xlink:href=\"#DejaVuSans-69\"/>\r\n       <use x=\"443.136719\" xlink:href=\"#DejaVuSans-71\"/>\r\n       <use x=\"520.626953\" xlink:href=\"#DejaVuSans-73\"/>\r\n       <use x=\"550.119141\" xlink:href=\"#DejaVuSans-83\"/>\r\n       <use x=\"613.595703\" xlink:href=\"#DejaVuSans-84\"/>\r\n       <use x=\"674.679688\" xlink:href=\"#DejaVuSans-82\"/>\r\n       <use x=\"740.162109\" xlink:href=\"#DejaVuSans-65\"/>\r\n       <use x=\"800.820312\" xlink:href=\"#DejaVuSans-84\"/>\r\n       <use x=\"861.904297\" xlink:href=\"#DejaVuSans-73\"/>\r\n       <use x=\"891.396484\" xlink:href=\"#DejaVuSans-79\"/>\r\n       <use x=\"970.107422\" xlink:href=\"#DejaVuSans-78\"/>\r\n      </g>\r\n     </g>\r\n    </g>\r\n    <g id=\"ytick_7\">\r\n     <g id=\"line2d_15\">\r\n      <g>\r\n       <use style=\"stroke:#000000;stroke-width:0.8;\" x=\"118.69375\" xlink:href=\"#m09cb063de1\" y=\"83.304\"/>\r\n      </g>\r\n     </g>\r\n     <g id=\"text_15\">\r\n      <!-- DAYS_ID_CHANGE -->\r\n      <g transform=\"translate(22.104687 87.014937)scale(0.1 -0.1)\">\r\n       <defs>\r\n        <path d=\"M 9.8125 72.90625 \r\nL 19.671875 72.90625 \r\nL 19.671875 43.015625 \r\nL 55.515625 43.015625 \r\nL 55.515625 72.90625 \r\nL 65.375 72.90625 \r\nL 65.375 0 \r\nL 55.515625 0 \r\nL 55.515625 34.71875 \r\nL 19.671875 34.71875 \r\nL 19.671875 0 \r\nL 9.8125 0 \r\nz\r\n\" id=\"DejaVuSans-72\"/>\r\n       </defs>\r\n       <use xlink:href=\"#DejaVuSans-68\"/>\r\n       <use x=\"75.251953\" xlink:href=\"#DejaVuSans-65\"/>\r\n       <use x=\"135.910156\" xlink:href=\"#DejaVuSans-89\"/>\r\n       <use x=\"196.994141\" xlink:href=\"#DejaVuSans-83\"/>\r\n       <use x=\"260.470703\" xlink:href=\"#DejaVuSans-95\"/>\r\n       <use x=\"310.470703\" xlink:href=\"#DejaVuSans-73\"/>\r\n       <use x=\"339.962891\" xlink:href=\"#DejaVuSans-68\"/>\r\n       <use x=\"416.964844\" xlink:href=\"#DejaVuSans-95\"/>\r\n       <use x=\"466.964844\" xlink:href=\"#DejaVuSans-67\"/>\r\n       <use x=\"536.789062\" xlink:href=\"#DejaVuSans-72\"/>\r\n       <use x=\"611.984375\" xlink:href=\"#DejaVuSans-65\"/>\r\n       <use x=\"680.392578\" xlink:href=\"#DejaVuSans-78\"/>\r\n       <use x=\"755.197266\" xlink:href=\"#DejaVuSans-71\"/>\r\n       <use x=\"832.6875\" xlink:href=\"#DejaVuSans-69\"/>\r\n      </g>\r\n     </g>\r\n    </g>\r\n    <g id=\"ytick_8\">\r\n     <g id=\"line2d_16\">\r\n      <g>\r\n       <use style=\"stroke:#000000;stroke-width:0.8;\" x=\"118.69375\" xlink:href=\"#m09cb063de1\" y=\"61.56\"/>\r\n      </g>\r\n     </g>\r\n     <g id=\"text_16\">\r\n      <!-- SK_ID_PREV -->\r\n      <g transform=\"translate(52 65.270937)scale(0.1 -0.1)\">\r\n       <defs>\r\n        <path d=\"M 9.8125 72.90625 \r\nL 19.671875 72.90625 \r\nL 19.671875 42.09375 \r\nL 52.390625 72.90625 \r\nL 65.09375 72.90625 \r\nL 28.90625 38.921875 \r\nL 67.671875 0 \r\nL 54.6875 0 \r\nL 19.671875 35.109375 \r\nL 19.671875 0 \r\nL 9.8125 0 \r\nz\r\n\" id=\"DejaVuSans-75\"/>\r\n        <path d=\"M 19.671875 64.796875 \r\nL 19.671875 37.40625 \r\nL 32.078125 37.40625 \r\nQ 38.96875 37.40625 42.71875 40.96875 \r\nQ 46.484375 44.53125 46.484375 51.125 \r\nQ 46.484375 57.671875 42.71875 61.234375 \r\nQ 38.96875 64.796875 32.078125 64.796875 \r\nz\r\nM 9.8125 72.90625 \r\nL 32.078125 72.90625 \r\nQ 44.34375 72.90625 50.609375 67.359375 \r\nQ 56.890625 61.8125 56.890625 51.125 \r\nQ 56.890625 40.328125 50.609375 34.8125 \r\nQ 44.34375 29.296875 32.078125 29.296875 \r\nL 19.671875 29.296875 \r\nL 19.671875 0 \r\nL 9.8125 0 \r\nz\r\n\" id=\"DejaVuSans-80\"/>\r\n        <path d=\"M 28.609375 0 \r\nL 0.78125 72.90625 \r\nL 11.078125 72.90625 \r\nL 34.1875 11.53125 \r\nL 57.328125 72.90625 \r\nL 67.578125 72.90625 \r\nL 39.796875 0 \r\nz\r\n\" id=\"DejaVuSans-86\"/>\r\n       </defs>\r\n       <use xlink:href=\"#DejaVuSans-83\"/>\r\n       <use x=\"63.476562\" xlink:href=\"#DejaVuSans-75\"/>\r\n       <use x=\"129.052734\" xlink:href=\"#DejaVuSans-95\"/>\r\n       <use x=\"179.052734\" xlink:href=\"#DejaVuSans-73\"/>\r\n       <use x=\"208.544922\" xlink:href=\"#DejaVuSans-68\"/>\r\n       <use x=\"285.546875\" xlink:href=\"#DejaVuSans-95\"/>\r\n       <use x=\"335.546875\" xlink:href=\"#DejaVuSans-80\"/>\r\n       <use x=\"395.849609\" xlink:href=\"#DejaVuSans-82\"/>\r\n       <use x=\"465.332031\" xlink:href=\"#DejaVuSans-69\"/>\r\n       <use x=\"528.515625\" xlink:href=\"#DejaVuSans-86\"/>\r\n      </g>\r\n     </g>\r\n    </g>\r\n    <g id=\"ytick_9\">\r\n     <g id=\"line2d_17\">\r\n      <g>\r\n       <use style=\"stroke:#000000;stroke-width:0.8;\" x=\"118.69375\" xlink:href=\"#m09cb063de1\" y=\"39.816\"/>\r\n      </g>\r\n     </g>\r\n     <g id=\"text_17\">\r\n      <!-- ANNUITY -->\r\n      <g transform=\"translate(67.40625 43.615219)scale(0.1 -0.1)\">\r\n       <defs>\r\n        <path d=\"M 8.6875 72.90625 \r\nL 18.609375 72.90625 \r\nL 18.609375 28.609375 \r\nQ 18.609375 16.890625 22.84375 11.734375 \r\nQ 27.09375 6.59375 36.625 6.59375 \r\nQ 46.09375 6.59375 50.34375 11.734375 \r\nQ 54.59375 16.890625 54.59375 28.609375 \r\nL 54.59375 72.90625 \r\nL 64.5 72.90625 \r\nL 64.5 27.390625 \r\nQ 64.5 13.140625 57.4375 5.859375 \r\nQ 50.390625 -1.421875 36.625 -1.421875 \r\nQ 22.796875 -1.421875 15.734375 5.859375 \r\nQ 8.6875 13.140625 8.6875 27.390625 \r\nz\r\n\" id=\"DejaVuSans-85\"/>\r\n       </defs>\r\n       <use xlink:href=\"#DejaVuSans-65\"/>\r\n       <use x=\"68.408203\" xlink:href=\"#DejaVuSans-78\"/>\r\n       <use x=\"143.212891\" xlink:href=\"#DejaVuSans-78\"/>\r\n       <use x=\"218.017578\" xlink:href=\"#DejaVuSans-85\"/>\r\n       <use x=\"291.210938\" xlink:href=\"#DejaVuSans-73\"/>\r\n       <use x=\"320.703125\" xlink:href=\"#DejaVuSans-84\"/>\r\n       <use x=\"381.787109\" xlink:href=\"#DejaVuSans-89\"/>\r\n      </g>\r\n     </g>\r\n    </g>\r\n    <g id=\"ytick_10\">\r\n     <g id=\"line2d_18\">\r\n      <g>\r\n       <use style=\"stroke:#000000;stroke-width:0.8;\" x=\"118.69375\" xlink:href=\"#m09cb063de1\" y=\"18.072\"/>\r\n      </g>\r\n     </g>\r\n     <g id=\"text_18\">\r\n      <!-- APPLICATION -->\r\n      <g transform=\"translate(46.8125 21.871219)scale(0.1 -0.1)\">\r\n       <use xlink:href=\"#DejaVuSans-65\"/>\r\n       <use x=\"68.408203\" xlink:href=\"#DejaVuSans-80\"/>\r\n       <use x=\"128.710938\" xlink:href=\"#DejaVuSans-80\"/>\r\n       <use x=\"189.013672\" xlink:href=\"#DejaVuSans-76\"/>\r\n       <use x=\"244.726562\" xlink:href=\"#DejaVuSans-73\"/>\r\n       <use x=\"274.21875\" xlink:href=\"#DejaVuSans-67\"/>\r\n       <use x=\"344.042969\" xlink:href=\"#DejaVuSans-65\"/>\r\n       <use x=\"404.701172\" xlink:href=\"#DejaVuSans-84\"/>\r\n       <use x=\"465.785156\" xlink:href=\"#DejaVuSans-73\"/>\r\n       <use x=\"495.277344\" xlink:href=\"#DejaVuSans-79\"/>\r\n       <use x=\"573.988281\" xlink:href=\"#DejaVuSans-78\"/>\r\n      </g>\r\n     </g>\r\n    </g>\r\n   </g>\r\n   <g id=\"patch_13\">\r\n    <path d=\"M 118.69375 224.64 \r\nL 118.69375 7.2 \r\n\" style=\"fill:none;stroke:#000000;stroke-linecap:square;stroke-linejoin:miter;stroke-width:0.8;\"/>\r\n   </g>\r\n   <g id=\"patch_14\">\r\n    <path d=\"M 453.49375 224.64 \r\nL 453.49375 7.2 \r\n\" style=\"fill:none;stroke:#000000;stroke-linecap:square;stroke-linejoin:miter;stroke-width:0.8;\"/>\r\n   </g>\r\n   <g id=\"patch_15\">\r\n    <path d=\"M 118.69375 224.64 \r\nL 453.49375 224.64 \r\n\" style=\"fill:none;stroke:#000000;stroke-linecap:square;stroke-linejoin:miter;stroke-width:0.8;\"/>\r\n   </g>\r\n   <g id=\"patch_16\">\r\n    <path d=\"M 118.69375 7.2 \r\nL 453.49375 7.2 \r\n\" style=\"fill:none;stroke:#000000;stroke-linecap:square;stroke-linejoin:miter;stroke-width:0.8;\"/>\r\n   </g>\r\n  </g>\r\n </g>\r\n <defs>\r\n  <clipPath id=\"p1d93b20091\">\r\n   <rect height=\"217.44\" width=\"334.8\" x=\"118.69375\" y=\"7.2\"/>\r\n  </clipPath>\r\n </defs>\r\n</svg>\r\n",
      "image/png": "[encoded data removed]"
     },
     "metadata": {
      "needs_background": "light"
     }
    }
   ],
   "source": [
    "rf_model = RandomForestClassifier()\n",
    "rf_model.fit(x,y)\n",
    "feat_importances = pd.Series(rf_model.feature_importances_, index=x.columns)\n",
    "df_imp_feat = feat_importances.nlargest(10)\n",
    "# feat_importances.nlargest(10).plot(kind='barh')\n",
    "df_imp_feat.plot(kind='barh')\n",
    "plt.show()"
   ]
  },
  {
   "cell_type": "markdown",
   "metadata": {},
   "source": [
    "## Note: \n",
    "### 1. A random forest is made from multiple decision trees (as given by n_estimators). Each tree individually predicts for the new data and random forest spits out the mean prediction from those trees. The idea for confidence level of predictions is just to see how much predictions coming from different trees are varying for the new observations. Then to analyze further, we can seek some pattern for observations which have highest variability of predictions.\n",
    "### 2. In most of the cases, random forests can beat linear models for prediction. An objection frequently raised for random forests is interpretation of results as compared to linear models. But one can address the misconceived objection using the discussed methodologies of interpretation.\n",
    "### 3. Feature selection is also known as attribute selection is a process of extracting the most relevant features from the dataset and then applying machine learning algorithms for the better performance of the model. A large number of irrelevant features increases the training time exponentially and increase the risk of overfitting.\n",
    "### 4. Chi-square Test for Feature Extraction:\n",
    "Chi-square test is used for categorical features in a dataset. We calculate Chi-square between each feature and the target and select the desired number of features with best Chi-square scores. It determines if the association between two categorical variables of the sample would reflect their real association in the population.\n",
    "### 5. ANOVA f-test Feature Selection, ANOVA is an acronym for “analysis of variance” and is a parametric statistical hypothesis test for determining whether the means from two or more samples of data (often three or more) come from the same distribution or not. An F-statistic, or F-test, is a class of statistical tests that calculate the ratio between variances values, such as the variance from two different samples or the explained and unexplained variance by a statistical test, like ANOVA. The ANOVA method is a type of F-statistic referred to here as an ANOVA f-test. Importantly, ANOVA is used when one variable is numeric and one is categorical, such as numerical input variables and a classification target variable in a classification task.\n",
    "\n",
    "## From the feature selection, we understand that;\n",
    "### 'EXT_SCORE_1 is the most important feature in this credit risk modelling as followed by 'EXT_SCORE_3' and 'EXT_SCORE_2'"
   ]
  },
  {
   "cell_type": "markdown",
   "metadata": {},
   "source": [
    "<hr>"
   ]
  }
 ]
}