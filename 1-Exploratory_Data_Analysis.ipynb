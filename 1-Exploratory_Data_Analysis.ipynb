{
 "metadata": {
  "language_info": {
   "codemirror_mode": {
    "name": "ipython",
    "version": 3
   },
   "file_extension": ".py",
   "mimetype": "text/x-python",
   "name": "python",
   "nbconvert_exporter": "python",
   "pygments_lexer": "ipython3",
   "version": "3.8.2-final"
  },
  "orig_nbformat": 2,
  "kernelspec": {
   "name": "python38264bit82a46b91eecb40d583fe648a951a8790",
   "display_name": "Python 3.8.2 64-bit"
  }
 },
 "nbformat": 4,
 "nbformat_minor": 2,
 "cells": [
  {
   "cell_type": "markdown",
   "metadata": {},
   "source": [
    "# __1. Credit Risk Modelling:__ Simple Exploratory Data Analysis and Loading Dataset\n",
    "## by: __Aprian Immanuel__ (087785160835 / immanuelaprian@gmail.com)"
   ]
  },
  {
   "cell_type": "markdown",
   "metadata": {},
   "source": [
    "### Before we arrived in Exploratory Data Analysis, we did as we called `Dataset Preparations`. This `Dataset Preparations` have step as following;\n",
    "#### 1. We've tried to import raw dataset directly using Python Library `(Pandas and Dask)` but we encountered problems due to our less sufficiency memory size. We decided to use another method\n",
    "#### 2. We decided to do formatting the raw CSV dataset using both Microsoft Excel and SQL combined. \n",
    "#### 3. First, we did CSV formatting using Microsoft Excel, replaced the blank values with Null to avoid truncated data warning in SQL, removed thousand separator and then saved it.\n",
    "#### 4. After that, we imported the formatted CSV to SQL using `LOAD DATA INFILE` Query. The query was succesfull. In the end, we got 6 tables in 1 schema as equal to 6 raw CSV data we received\n",
    "#### 5. After we joined some tables, we exported them into new sql and csv data. Then we proceed to Exploratory Data Analysis step. We decided to limit data rows for 15000 rows due to efficiency reason"
   ]
  },
  {
   "cell_type": "code",
   "execution_count": 1,
   "metadata": {},
   "outputs": [],
   "source": [
    "#import library\n",
    "import pandas as pd\n",
    "%matplotlib inline"
   ]
  },
  {
   "cell_type": "code",
   "execution_count": 4,
   "metadata": {},
   "outputs": [
    {
     "output_type": "execute_result",
     "data": {
      "text/plain": "    LN_ID  TARGET CONTRACT_TYPE GENDER  NUM_CHILDREN    INCOME  \\\n0  145235       0    Cash loans      M             0  202500.0   \n1  156401       0    Cash loans      F             1  225000.0   \n2  169487       0    Cash loans      M             0  202500.0   \n3  230261       0    Cash loans      F             0   94500.0   \n4  272288       0    Cash loans      F             0  157500.0   \n\n   APPROVED_CREDIT  ANNUITY     PRICE           INCOME_TYPE  ...  \\\n0         728460.0  44694.0  675000.0  Commercial associate  ...   \n1         640080.0  31261.5  450000.0               Working  ...   \n2         360000.0      NaN  360000.0               Working  ...   \n3         148365.0  10453.5  135000.0               Working  ...   \n4         281493.0  10561.5  243000.0             Pensioner  ...   \n\n  PRICE_PREV_APP WEEKKDAYS_APPLY_PREV_APP HOUR_APPLY_PREV_APP  DAYS_DECISION  \\\n0        62955.0                   SUNDAY                11.0         -261.0   \n1        64039.5                   FRIDAY                16.0         -978.0   \n2       270000.0                 SATURDAY                10.0         -378.0   \n3        41625.0                 SATURDAY                11.0         -496.0   \n4      1174500.0                WEDNESDAY                14.0         -449.0   \n\n   TERM_PAYMENT  YIELD_GROUP  FIRST_DRAW FIRST_DUE  TERMINATION  \\\n0           8.0   low_normal    365243.0    -231.0        -16.0   \n1           4.0       middle    365243.0    -947.0       -850.0   \n2           0.0          NA1      -365.0    -335.0     365243.0   \n3           6.0       middle    365243.0    -465.0       -313.0   \n4          54.0   low_normal    365243.0    -419.0     365243.0   \n\n  NFLAG_INSURED_ON_APPROVAL  \n0                       1.0  \n1                       0.0  \n2                       0.0  \n3                       0.0  \n4                       1.0  \n\n[5 rows x 44 columns]",
      "text/html": "<div>\n<style scoped>\n    .dataframe tbody tr th:only-of-type {\n        vertical-align: middle;\n    }\n\n    .dataframe tbody tr th {\n        vertical-align: top;\n    }\n\n    .dataframe thead th {\n        text-align: right;\n    }\n</style>\n<table border=\"1\" class=\"dataframe\">\n  <thead>\n    <tr style=\"text-align: right;\">\n      <th></th>\n      <th>LN_ID</th>\n      <th>TARGET</th>\n      <th>CONTRACT_TYPE</th>\n      <th>GENDER</th>\n      <th>NUM_CHILDREN</th>\n      <th>INCOME</th>\n      <th>APPROVED_CREDIT</th>\n      <th>ANNUITY</th>\n      <th>PRICE</th>\n      <th>INCOME_TYPE</th>\n      <th>...</th>\n      <th>PRICE_PREV_APP</th>\n      <th>WEEKKDAYS_APPLY_PREV_APP</th>\n      <th>HOUR_APPLY_PREV_APP</th>\n      <th>DAYS_DECISION</th>\n      <th>TERM_PAYMENT</th>\n      <th>YIELD_GROUP</th>\n      <th>FIRST_DRAW</th>\n      <th>FIRST_DUE</th>\n      <th>TERMINATION</th>\n      <th>NFLAG_INSURED_ON_APPROVAL</th>\n    </tr>\n  </thead>\n  <tbody>\n    <tr>\n      <th>0</th>\n      <td>145235</td>\n      <td>0</td>\n      <td>Cash loans</td>\n      <td>M</td>\n      <td>0</td>\n      <td>202500.0</td>\n      <td>728460.0</td>\n      <td>44694.0</td>\n      <td>675000.0</td>\n      <td>Commercial associate</td>\n      <td>...</td>\n      <td>62955.0</td>\n      <td>SUNDAY</td>\n      <td>11.0</td>\n      <td>-261.0</td>\n      <td>8.0</td>\n      <td>low_normal</td>\n      <td>365243.0</td>\n      <td>-231.0</td>\n      <td>-16.0</td>\n      <td>1.0</td>\n    </tr>\n    <tr>\n      <th>1</th>\n      <td>156401</td>\n      <td>0</td>\n      <td>Cash loans</td>\n      <td>F</td>\n      <td>1</td>\n      <td>225000.0</td>\n      <td>640080.0</td>\n      <td>31261.5</td>\n      <td>450000.0</td>\n      <td>Working</td>\n      <td>...</td>\n      <td>64039.5</td>\n      <td>FRIDAY</td>\n      <td>16.0</td>\n      <td>-978.0</td>\n      <td>4.0</td>\n      <td>middle</td>\n      <td>365243.0</td>\n      <td>-947.0</td>\n      <td>-850.0</td>\n      <td>0.0</td>\n    </tr>\n    <tr>\n      <th>2</th>\n      <td>169487</td>\n      <td>0</td>\n      <td>Cash loans</td>\n      <td>M</td>\n      <td>0</td>\n      <td>202500.0</td>\n      <td>360000.0</td>\n      <td>NaN</td>\n      <td>360000.0</td>\n      <td>Working</td>\n      <td>...</td>\n      <td>270000.0</td>\n      <td>SATURDAY</td>\n      <td>10.0</td>\n      <td>-378.0</td>\n      <td>0.0</td>\n      <td>NA1</td>\n      <td>-365.0</td>\n      <td>-335.0</td>\n      <td>365243.0</td>\n      <td>0.0</td>\n    </tr>\n    <tr>\n      <th>3</th>\n      <td>230261</td>\n      <td>0</td>\n      <td>Cash loans</td>\n      <td>F</td>\n      <td>0</td>\n      <td>94500.0</td>\n      <td>148365.0</td>\n      <td>10453.5</td>\n      <td>135000.0</td>\n      <td>Working</td>\n      <td>...</td>\n      <td>41625.0</td>\n      <td>SATURDAY</td>\n      <td>11.0</td>\n      <td>-496.0</td>\n      <td>6.0</td>\n      <td>middle</td>\n      <td>365243.0</td>\n      <td>-465.0</td>\n      <td>-313.0</td>\n      <td>0.0</td>\n    </tr>\n    <tr>\n      <th>4</th>\n      <td>272288</td>\n      <td>0</td>\n      <td>Cash loans</td>\n      <td>F</td>\n      <td>0</td>\n      <td>157500.0</td>\n      <td>281493.0</td>\n      <td>10561.5</td>\n      <td>243000.0</td>\n      <td>Pensioner</td>\n      <td>...</td>\n      <td>1174500.0</td>\n      <td>WEDNESDAY</td>\n      <td>14.0</td>\n      <td>-449.0</td>\n      <td>54.0</td>\n      <td>low_normal</td>\n      <td>365243.0</td>\n      <td>-419.0</td>\n      <td>365243.0</td>\n      <td>1.0</td>\n    </tr>\n  </tbody>\n</table>\n<p>5 rows × 44 columns</p>\n</div>"
     },
     "metadata": {},
     "execution_count": 4
    }
   ],
   "source": [
    "df = pd.read_csv('precredit_train.csv', sep=';') #import dataset\n",
    "df = df.drop(['NULL', 'MyUnknownColumn', 'LN_ID.1', 'MyUnknownColumn.1', 'SK_ID_PREV.1', 'LN_ID.2', 'CONTRACT_STATUS'], axis=1) #drop unnecessary feature\n",
    "df = df.rename(columns={'CONTRACT_TYPE.1' : 'CONTRACT_TYPE_PREV_APP', 'ANNUITY.1' : 'ANNUITY_PREV_APP', 'PRICE.1':'PRICE_PREV_APP', 'WEEKDAYS_APPLY.1':'WEEKKDAYS_APPLY_PREV_APP', 'HOUR_APPLY.1': 'HOUR_APPLY_PREV_APP', 'APPROVED_CREDIT.1':'APPROVED_CREDIT_PREV_APP'}, inplace=False) #rename feature\n",
    "df.head()"
   ]
  },
  {
   "cell_type": "code",
   "execution_count": 5,
   "metadata": {},
   "outputs": [
    {
     "output_type": "execute_result",
     "data": {
      "text/plain": "(61503, 44)"
     },
     "metadata": {},
     "execution_count": 5
    }
   ],
   "source": [
    "df.shape"
   ]
  },
  {
   "cell_type": "code",
   "execution_count": 6,
   "metadata": {
    "tags": []
   },
   "outputs": [
    {
     "output_type": "stream",
     "name": "stdout",
     "text": "<class 'pandas.core.frame.DataFrame'>\nRangeIndex: 61503 entries, 0 to 61502\nData columns (total 44 columns):\n #   Column                     Non-Null Count  Dtype  \n---  ------                     --------------  -----  \n 0   LN_ID                      61503 non-null  int64  \n 1   TARGET                     61503 non-null  int64  \n 2   CONTRACT_TYPE              61503 non-null  object \n 3   GENDER                     61503 non-null  object \n 4   NUM_CHILDREN               61503 non-null  int64  \n 5   INCOME                     61503 non-null  float64\n 6   APPROVED_CREDIT            61503 non-null  float64\n 7   ANNUITY                    61502 non-null  float64\n 8   PRICE                      61441 non-null  float64\n 9   INCOME_TYPE                61503 non-null  object \n 10  EDUCATION                  61503 non-null  object \n 11  FAMILY_STATUS              61503 non-null  object \n 12  HOUSING_TYPE               61503 non-null  object \n 13  DAYS_AGE                   61503 non-null  int64  \n 14  DAYS_WORK                  61503 non-null  int64  \n 15  DAYS_REGISTRATION          61503 non-null  int64  \n 16  DAYS_ID_CHANGE             61503 non-null  int64  \n 17  WEEKDAYS_APPLY             61503 non-null  object \n 18  HOUR_APPLY                 61503 non-null  int64  \n 19  ORGANIZATION_TYPE          61503 non-null  object \n 20  EXT_SCORE_1                26658 non-null  float64\n 21  EXT_SCORE_2                61369 non-null  object \n 22  EXT_SCORE_3                49264 non-null  float64\n 23  SK_ID_PREV                 32644 non-null  float64\n 24  INST_NUMBER                32644 non-null  float64\n 25  INST_DAYS                  32644 non-null  float64\n 26  PAY_DAYS                   32643 non-null  float64\n 27  AMT_INST                   32644 non-null  object \n 28  AMT_PAY                    32643 non-null  object \n 29  CONTRACT_TYPE_PREV_APP     31543 non-null  object \n 30  ANNUITY_PREV_APP           31543 non-null  float64\n 31  APPLICATION                31543 non-null  float64\n 32  APPROVED_CREDIT_PREV_APP   31543 non-null  float64\n 33  AMT_DOWN_PAYMENT           23188 non-null  float64\n 34  PRICE_PREV_APP             30671 non-null  float64\n 35  WEEKKDAYS_APPLY_PREV_APP   31543 non-null  object \n 36  HOUR_APPLY_PREV_APP        31543 non-null  float64\n 37  DAYS_DECISION              31543 non-null  float64\n 38  TERM_PAYMENT               31543 non-null  float64\n 39  YIELD_GROUP                31543 non-null  object \n 40  FIRST_DRAW                 31523 non-null  float64\n 41  FIRST_DUE                  31523 non-null  float64\n 42  TERMINATION                31523 non-null  float64\n 43  NFLAG_INSURED_ON_APPROVAL  31523 non-null  float64\ndtypes: float64(22), int64(8), object(14)\nmemory usage: 20.6+ MB\n"
    }
   ],
   "source": [
    "df.info()"
   ]
  },
  {
   "cell_type": "markdown",
   "metadata": {},
   "source": [
    "## Descriptive Analysis"
   ]
  },
  {
   "cell_type": "code",
   "execution_count": 7,
   "metadata": {},
   "outputs": [
    {
     "output_type": "execute_result",
     "data": {
      "text/plain": "               LN_ID        TARGET  NUM_CHILDREN        INCOME  \\\ncount   61503.000000  61503.000000  61503.000000  6.150300e+04   \nmean   278151.136416      0.080793      0.411850  1.721919e+05   \nstd    102918.206671      0.272519      0.716686  7.836493e+05   \nmin    100009.000000      0.000000      0.000000  2.610000e+04   \n25%    188767.000000      0.000000      0.000000  1.125000e+05   \n50%    278357.000000      0.000000      0.000000  1.485000e+05   \n75%    367424.500000      0.000000      1.000000  2.025000e+05   \nmax    456255.000000      1.000000      9.000000  1.916515e+08   \n\n       APPROVED_CREDIT        ANNUITY         PRICE      DAYS_AGE  \\\ncount     6.150300e+04   61502.000000  6.144100e+04  61503.000000   \nmean      5.976899e+05   27083.323315  5.369033e+05 -16057.481033   \nstd       4.016493e+05   14470.508291  3.685742e+05   4363.536919   \nmin       4.500000e+04    2164.500000  4.500000e+04 -25229.000000   \n25%       2.700000e+05   16506.000000  2.385000e+05 -19716.500000   \n50%       5.124465e+05   24853.500000  4.500000e+05 -15753.000000   \n75%       8.086500e+05   34596.000000  6.795000e+05 -12450.000000   \nmax       4.050000e+06  258025.500000  4.050000e+06  -7673.000000   \n\n           DAYS_WORK  DAYS_REGISTRATION  ...  APPROVED_CREDIT_PREV_APP  \\\ncount   61503.000000       61503.000000  ...              3.154300e+04   \nmean    64882.262768       -4976.696324  ...              3.373721e+05   \nstd    142154.440320        3520.926325  ...              6.846678e+06   \nmin    -17912.000000      -22928.000000  ...              0.000000e+00   \n25%     -2761.000000       -7479.000000  ...              4.718475e+04   \n50%     -1208.000000       -4498.000000  ...              9.531450e+04   \n75%      -276.000000       -1996.000000  ...              1.834200e+05   \nmax    365243.000000           0.000000  ...              7.712779e+08   \n\n       AMT_DOWN_PAYMENT  PRICE_PREV_APP  HOUR_APPLY_PREV_APP  DAYS_DECISION  \\\ncount      2.318800e+04    3.067100e+04         31543.000000   31543.000000   \nmean       1.270305e+05    1.224085e+06            12.738674   -1061.548141   \nstd        1.684558e+06    1.248684e+07             3.370045     776.972881   \nmin        0.000000e+00    0.000000e+00             0.000000   -2922.000000   \n25%        0.000000e+00    4.765500e+04            10.000000   -1575.000000   \n50%        2.432250e+03    9.360000e+04            13.000000    -793.000000   \n75%        9.000000e+03    1.800000e+05            15.000000    -441.000000   \nmax        7.422188e+07    6.992779e+08            23.000000     -16.000000   \n\n       TERM_PAYMENT     FIRST_DRAW      FIRST_DUE    TERMINATION  \\\ncount  31543.000000   31523.000000   31523.000000   31523.000000   \nmean      13.766826  344097.952194    -503.705548   77845.127843   \nstd       10.758478   85424.312760   13850.716643  150446.917828   \nmin        0.000000   -2922.000000   -2891.000000   -2774.000000   \n25%        6.000000  365243.000000   -1540.500000   -1183.000000   \n50%       12.000000  365243.000000    -758.000000    -428.000000   \n75%       16.000000  365243.000000    -405.000000     -50.000000   \nmax       72.000000  365243.000000  365243.000000  365243.000000   \n\n       NFLAG_INSURED_ON_APPROVAL  \ncount               31523.000000  \nmean                    0.282524  \nstd                     0.450234  \nmin                     0.000000  \n25%                     0.000000  \n50%                     0.000000  \n75%                     1.000000  \nmax                     1.000000  \n\n[8 rows x 30 columns]",
      "text/html": "<div>\n<style scoped>\n    .dataframe tbody tr th:only-of-type {\n        vertical-align: middle;\n    }\n\n    .dataframe tbody tr th {\n        vertical-align: top;\n    }\n\n    .dataframe thead th {\n        text-align: right;\n    }\n</style>\n<table border=\"1\" class=\"dataframe\">\n  <thead>\n    <tr style=\"text-align: right;\">\n      <th></th>\n      <th>LN_ID</th>\n      <th>TARGET</th>\n      <th>NUM_CHILDREN</th>\n      <th>INCOME</th>\n      <th>APPROVED_CREDIT</th>\n      <th>ANNUITY</th>\n      <th>PRICE</th>\n      <th>DAYS_AGE</th>\n      <th>DAYS_WORK</th>\n      <th>DAYS_REGISTRATION</th>\n      <th>...</th>\n      <th>APPROVED_CREDIT_PREV_APP</th>\n      <th>AMT_DOWN_PAYMENT</th>\n      <th>PRICE_PREV_APP</th>\n      <th>HOUR_APPLY_PREV_APP</th>\n      <th>DAYS_DECISION</th>\n      <th>TERM_PAYMENT</th>\n      <th>FIRST_DRAW</th>\n      <th>FIRST_DUE</th>\n      <th>TERMINATION</th>\n      <th>NFLAG_INSURED_ON_APPROVAL</th>\n    </tr>\n  </thead>\n  <tbody>\n    <tr>\n      <th>count</th>\n      <td>61503.000000</td>\n      <td>61503.000000</td>\n      <td>61503.000000</td>\n      <td>6.150300e+04</td>\n      <td>6.150300e+04</td>\n      <td>61502.000000</td>\n      <td>6.144100e+04</td>\n      <td>61503.000000</td>\n      <td>61503.000000</td>\n      <td>61503.000000</td>\n      <td>...</td>\n      <td>3.154300e+04</td>\n      <td>2.318800e+04</td>\n      <td>3.067100e+04</td>\n      <td>31543.000000</td>\n      <td>31543.000000</td>\n      <td>31543.000000</td>\n      <td>31523.000000</td>\n      <td>31523.000000</td>\n      <td>31523.000000</td>\n      <td>31523.000000</td>\n    </tr>\n    <tr>\n      <th>mean</th>\n      <td>278151.136416</td>\n      <td>0.080793</td>\n      <td>0.411850</td>\n      <td>1.721919e+05</td>\n      <td>5.976899e+05</td>\n      <td>27083.323315</td>\n      <td>5.369033e+05</td>\n      <td>-16057.481033</td>\n      <td>64882.262768</td>\n      <td>-4976.696324</td>\n      <td>...</td>\n      <td>3.373721e+05</td>\n      <td>1.270305e+05</td>\n      <td>1.224085e+06</td>\n      <td>12.738674</td>\n      <td>-1061.548141</td>\n      <td>13.766826</td>\n      <td>344097.952194</td>\n      <td>-503.705548</td>\n      <td>77845.127843</td>\n      <td>0.282524</td>\n    </tr>\n    <tr>\n      <th>std</th>\n      <td>102918.206671</td>\n      <td>0.272519</td>\n      <td>0.716686</td>\n      <td>7.836493e+05</td>\n      <td>4.016493e+05</td>\n      <td>14470.508291</td>\n      <td>3.685742e+05</td>\n      <td>4363.536919</td>\n      <td>142154.440320</td>\n      <td>3520.926325</td>\n      <td>...</td>\n      <td>6.846678e+06</td>\n      <td>1.684558e+06</td>\n      <td>1.248684e+07</td>\n      <td>3.370045</td>\n      <td>776.972881</td>\n      <td>10.758478</td>\n      <td>85424.312760</td>\n      <td>13850.716643</td>\n      <td>150446.917828</td>\n      <td>0.450234</td>\n    </tr>\n    <tr>\n      <th>min</th>\n      <td>100009.000000</td>\n      <td>0.000000</td>\n      <td>0.000000</td>\n      <td>2.610000e+04</td>\n      <td>4.500000e+04</td>\n      <td>2164.500000</td>\n      <td>4.500000e+04</td>\n      <td>-25229.000000</td>\n      <td>-17912.000000</td>\n      <td>-22928.000000</td>\n      <td>...</td>\n      <td>0.000000e+00</td>\n      <td>0.000000e+00</td>\n      <td>0.000000e+00</td>\n      <td>0.000000</td>\n      <td>-2922.000000</td>\n      <td>0.000000</td>\n      <td>-2922.000000</td>\n      <td>-2891.000000</td>\n      <td>-2774.000000</td>\n      <td>0.000000</td>\n    </tr>\n    <tr>\n      <th>25%</th>\n      <td>188767.000000</td>\n      <td>0.000000</td>\n      <td>0.000000</td>\n      <td>1.125000e+05</td>\n      <td>2.700000e+05</td>\n      <td>16506.000000</td>\n      <td>2.385000e+05</td>\n      <td>-19716.500000</td>\n      <td>-2761.000000</td>\n      <td>-7479.000000</td>\n      <td>...</td>\n      <td>4.718475e+04</td>\n      <td>0.000000e+00</td>\n      <td>4.765500e+04</td>\n      <td>10.000000</td>\n      <td>-1575.000000</td>\n      <td>6.000000</td>\n      <td>365243.000000</td>\n      <td>-1540.500000</td>\n      <td>-1183.000000</td>\n      <td>0.000000</td>\n    </tr>\n    <tr>\n      <th>50%</th>\n      <td>278357.000000</td>\n      <td>0.000000</td>\n      <td>0.000000</td>\n      <td>1.485000e+05</td>\n      <td>5.124465e+05</td>\n      <td>24853.500000</td>\n      <td>4.500000e+05</td>\n      <td>-15753.000000</td>\n      <td>-1208.000000</td>\n      <td>-4498.000000</td>\n      <td>...</td>\n      <td>9.531450e+04</td>\n      <td>2.432250e+03</td>\n      <td>9.360000e+04</td>\n      <td>13.000000</td>\n      <td>-793.000000</td>\n      <td>12.000000</td>\n      <td>365243.000000</td>\n      <td>-758.000000</td>\n      <td>-428.000000</td>\n      <td>0.000000</td>\n    </tr>\n    <tr>\n      <th>75%</th>\n      <td>367424.500000</td>\n      <td>0.000000</td>\n      <td>1.000000</td>\n      <td>2.025000e+05</td>\n      <td>8.086500e+05</td>\n      <td>34596.000000</td>\n      <td>6.795000e+05</td>\n      <td>-12450.000000</td>\n      <td>-276.000000</td>\n      <td>-1996.000000</td>\n      <td>...</td>\n      <td>1.834200e+05</td>\n      <td>9.000000e+03</td>\n      <td>1.800000e+05</td>\n      <td>15.000000</td>\n      <td>-441.000000</td>\n      <td>16.000000</td>\n      <td>365243.000000</td>\n      <td>-405.000000</td>\n      <td>-50.000000</td>\n      <td>1.000000</td>\n    </tr>\n    <tr>\n      <th>max</th>\n      <td>456255.000000</td>\n      <td>1.000000</td>\n      <td>9.000000</td>\n      <td>1.916515e+08</td>\n      <td>4.050000e+06</td>\n      <td>258025.500000</td>\n      <td>4.050000e+06</td>\n      <td>-7673.000000</td>\n      <td>365243.000000</td>\n      <td>0.000000</td>\n      <td>...</td>\n      <td>7.712779e+08</td>\n      <td>7.422188e+07</td>\n      <td>6.992779e+08</td>\n      <td>23.000000</td>\n      <td>-16.000000</td>\n      <td>72.000000</td>\n      <td>365243.000000</td>\n      <td>365243.000000</td>\n      <td>365243.000000</td>\n      <td>1.000000</td>\n    </tr>\n  </tbody>\n</table>\n<p>8 rows × 30 columns</p>\n</div>"
     },
     "metadata": {},
     "execution_count": 7
    }
   ],
   "source": [
    "df.describe()"
   ]
  },
  {
   "cell_type": "markdown",
   "metadata": {},
   "source": [
    "## Client Profiling"
   ]
  },
  {
   "cell_type": "markdown",
   "metadata": {},
   "source": [
    "### 1. Who are our Clients (by gender)?"
   ]
  },
  {
   "cell_type": "code",
   "execution_count": 8,
   "metadata": {},
   "outputs": [
    {
     "output_type": "execute_result",
     "data": {
      "text/plain": "F    40549\nM    20954\nName: GENDER, dtype: int64"
     },
     "metadata": {},
     "execution_count": 8
    }
   ],
   "source": [
    "df['GENDER'].value_counts()"
   ]
  },
  {
   "cell_type": "markdown",
   "metadata": {},
   "source": [
    "### 2. How many Children that usually our clients have?"
   ]
  },
  {
   "cell_type": "code",
   "execution_count": 9,
   "metadata": {},
   "outputs": [
    {
     "output_type": "execute_result",
     "data": {
      "text/plain": "0    43295\n1    12083\n2     5284\n3      731\n4       78\n5       25\n6        3\n7        2\n9        1\n8        1\nName: NUM_CHILDREN, dtype: int64"
     },
     "metadata": {},
     "execution_count": 9
    }
   ],
   "source": [
    "df['NUM_CHILDREN'].value_counts()"
   ]
  },
  {
   "cell_type": "markdown",
   "metadata": {},
   "source": [
    "### 3. What are the income type that usually our clients have?"
   ]
  },
  {
   "cell_type": "code",
   "execution_count": 10,
   "metadata": {},
   "outputs": [
    {
     "output_type": "execute_result",
     "data": {
      "text/plain": "Working                 31621\nCommercial associate    14217\nPensioner               11249\nState servant            4407\nUnemployed                  5\nStudent                     3\nBusinessman                 1\nName: INCOME_TYPE, dtype: int64"
     },
     "metadata": {},
     "execution_count": 10
    }
   ],
   "source": [
    "df['INCOME_TYPE'].value_counts()"
   ]
  },
  {
   "cell_type": "markdown",
   "metadata": {},
   "source": [
    "### We could do Client Profiling with Exploratory Data Analysis as many as we need. There will be unlimited trial and experiment for this section. We decided to proceed to Clients Behaviour section"
   ]
  },
  {
   "cell_type": "markdown",
   "metadata": {},
   "source": [
    "## Client Behaviour"
   ]
  },
  {
   "cell_type": "markdown",
   "metadata": {},
   "source": [
    "### 1. On what days do usually our Clients apply the loan?"
   ]
  },
  {
   "cell_type": "code",
   "execution_count": 11,
   "metadata": {},
   "outputs": [
    {
     "output_type": "execute_result",
     "data": {
      "text/plain": "TUESDAY      10838\nWEDNESDAY    10477\nMONDAY       10234\nTHURSDAY     10011\nFRIDAY        9993\nSATURDAY      6795\nSUNDAY        3155\nName: WEEKDAYS_APPLY, dtype: int64"
     },
     "metadata": {},
     "execution_count": 11
    }
   ],
   "source": [
    "df['WEEKDAYS_APPLY'].value_counts()"
   ]
  },
  {
   "cell_type": "markdown",
   "metadata": {},
   "source": [
    "### 2. On what days did our Clients apply for the previous application?"
   ]
  },
  {
   "cell_type": "code",
   "execution_count": 12,
   "metadata": {},
   "outputs": [
    {
     "output_type": "execute_result",
     "data": {
      "text/plain": "SATURDAY     5112\nFRIDAY       4749\nWEDNESDAY    4605\nMONDAY       4500\nTUESDAY      4486\nTHURSDAY     4312\nSUNDAY       3779\nName: WEEKKDAYS_APPLY_PREV_APP, dtype: int64"
     },
     "metadata": {},
     "execution_count": 12
    }
   ],
   "source": [
    "df['WEEKKDAYS_APPLY_PREV_APP'].value_counts()"
   ]
  },
  {
   "cell_type": "markdown",
   "metadata": {},
   "source": [
    "### 3. What income type that usually our clients have who have late payment than X days?"
   ]
  },
  {
   "cell_type": "code",
   "execution_count": 13,
   "metadata": {},
   "outputs": [
    {
     "output_type": "execute_result",
     "data": {
      "text/plain": "INCOME_TYPE\nWorking                 3071\nCommercial associate    1069\nPensioner                578\nState servant            250\nUnemployed                 1\nName: INCOME_TYPE, dtype: int64"
     },
     "metadata": {},
     "execution_count": 13
    }
   ],
   "source": [
    "df[df['TARGET'] == 1]['INCOME_TYPE'].groupby(df['INCOME_TYPE']).count().sort_values(ascending=False)"
   ]
  },
  {
   "cell_type": "markdown",
   "metadata": {},
   "source": [
    "### We could have our Client Behaviour analysis with Exploratory Data Analysis as many as we need. There will be unlimited trial and experiment for this section. We had to learn the column description in order to understand what problems we're going to solve and deal with."
   ]
  },
  {
   "cell_type": "markdown",
   "metadata": {},
   "source": [
    "<hr>"
   ]
  }
 ]
}